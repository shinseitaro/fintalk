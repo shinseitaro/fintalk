{
 "cells": [
  {
   "cell_type": "markdown",
   "metadata": {},
   "source": [
    "## 統計的仮説検定\n",
    "\n",
    "Chapter1でも触れましたが，統計学の目的の一つは、**観察対象全体の構造（特徴）を、一部の情報だけを利用して予測すること**、です．\n",
    "\n",
    "一部の情報とは、母集団から無作為に抽出した標本のことです。\n",
    "\n",
    "\n",
    "これまで行ってきた分析を株価予想に使うためには、観察対象である母集団から得られた標本が，**予め設定した前提条件を満たしているか**を確認する必要があります．\n",
    "\n",
    "予め設定した前提条件を満たしているかとは、例えば，正規分布に従っているか？といったことです。\n",
    "\n",
    "Chapter1の最後で、日経株価平均の前日比は正規分布に従っているように見える、と述べました．よって、**今後も正規分布に従うであろうから**それに基づいた予測を行おうと決めて予測モデルを作ります。\n",
    "\n",
    "もしこの判断が間違っていたら，，，予測モデルは全く持って無意味です．\n",
    "\n",
    "しかし、\n",
    "\n",
    "正規分布にしたがっている決めた理由は、自分の主観的判断でしかありません．\n",
    "\n",
    "どうすれば、主観的な判断を入れずに、前提条件を満たしているかどうか確認できるでしょうか？\n",
    "\n",
    "その方法が「**統計的仮説検定**」と呼ばれる手法です．\n",
    "\n",
    "統計的仮説検定とは、同時に起こることがない2つの仮説をたて、データを使ってどちらの仮説を受け入れるか判断する手法です．\n",
    "\n",
    "この2つの仮説を,**帰無仮説と対立仮説**と言い,受け入れることを**「受容する」**，受け入れないことを**「棄却する」**といいます．\n",
    "\n",
    "\n"
   ]
  },
  {
   "cell_type": "markdown",
   "metadata": {},
   "source": [
    "### 例題\n",
    "\n",
    "[23-1. 検定とは | 統計学の時間 | 統計WEB](https://bellcurve.jp/statistics/course/9309.html)より\n",
    "\n",
    "ここに二枚のコインセットが、2セットあります。\n",
    "\n",
    "+ Aセットは、それぞれのコインが５０％の確率で表、５０％の確率で裏が出る、普通のコイン\n",
    "+ Bセットは、コインの裏側を少し重くしているので、表が出やすく、９０％の確率で表、１０％の確率で裏がでる不正コイン\n",
    "\n",
    "です。\n",
    "\n",
    "あなたは、「これはAセットだよ」と言われてコインセットを渡されました。\n",
    "\n",
    "**このコインセットを2回降って見たところ、2回とも全てウラが出ました。**\n",
    "\n",
    "今からこのコインは本当にAセットか統計的に検定を試みます。\n",
    "\n",
    "**検定方法**\n",
    "\n",
    "1. 仮説を立てる\n",
    "1. 仮説のための確率を出す\n",
    "1. 仮説があっているかどうか、水準を決める（キモ）\n",
    "1. 検定する\n",
    "\n",
    "**1. 仮説を立てる** \n",
    "\n",
    "ここで仮説は、渡されたコインセットは二枚とも普通のコイン、となります。この仮説に基づいて、仮説のための確率を出します。\n",
    "\n",
    "**2. 仮説のための確率を出す** \n",
    "\n",
    "普通のコインなら、50％の確率で表、もしくはウラが出るから、２枚セットのコイン２回投げた時、全部ウラが出る確率は\n",
    "\n",
    "![](https://bellcurve.jp/statistics/wp-body/wp-content/ql-cache/quicklatex.com-109904be3769c5dfcdce99f83136b546_l3.png)\n",
    "\n",
    "**3. 仮説があっているかどうか、水準を決める**\n",
    "\n",
    "さて、ここが一番キモになるところです。\n",
    "\n",
    "`6.25%` という確率は、「滅多に起きない」確率か？「起こり得る」確率か？\n",
    "\n",
    "判断しなくては行けません。そのためには**判断基準**が必要です。\n",
    "\n",
    "**ここでこの検定の進め方に大きなミスが見つかりました。**\n",
    "\n",
    "それは、\n",
    "\n",
    "**判断基準を先に決めて置かなかった**ことです。\n",
    "\n",
    "これでは、私感が入ってしまう可能性があります。何かしらの理由で、ウソをついてBセットを渡していたとすれば、\n",
    "\n",
    "「6.25％って超大きい確率だよね。だって熊本地震の本震が起きた布田川断層帯は、今後30年間で地震が起こる確率はほぼ0％〜0.9％って言われてたんだよ(((( ;ﾟдﾟ)))」\n",
    "\n",
    "と煽る可能性も有ります。\n",
    "\n",
    "この検定は失敗したと言わざるを得ません。では検定方法を見直しましょう。\n",
    "\n",
    "\n",
    "**検定方法**\n",
    "\n",
    "1. 仮説を立てる\n",
    "1. 仮説があっているかどうか、水準を決める（キモ）\n",
    "1. 仮説のための確率を出す\n",
    "1. 検定する\n",
    "\n",
    "\n",
    "この順番で行きましょう。\n",
    "\n",
    "**1. 仮説を立てる** \n",
    "\n",
    "`渡されたコインセットは二枚とも普通のコイン`\n",
    "\n",
    "**2. 仮説があっているかどうか、水準を決める**\n",
    "\n",
    "仮説があっているかどうか、水準を決めるためにはどうしたら良いでしょう？\n",
    "\n",
    "それは、**「滅多に起こらないと判断する確率の基準」**を設定します。\n",
    "\n",
    "ではその滅多に起こらない水準を決めるには？\n",
    "\n",
    "それはわかりません。世の中の人が、「だいたいこれくらいだろう」と言っている事に従う感じです。ここ主観じゃない？と思いますが仕方ないのかもしれません。\n",
    "\n",
    "今回のコインの話だと、`１０％` 以下なら滅多に起こらないと判断してもいい、というグーグル先生がおっしゃっているので、それに従おうかと思います。\n",
    "\n",
    "**3. 仮説のための確率を出す** \n",
    "\n",
    "上記で出したとおり`6.25%` \n",
    "\n",
    "**4. 検定する**\n",
    "\n",
    "6.25％は10％に比べて十分小さい。つまり滅多に起きない。よって**「渡されたコインセットは二枚とも普通のコイン」というのは疑わしい**\n",
    "\n",
    "という結果になりました。\n",
    "\n",
    "\n",
    "---\n",
    "\n",
    "#### メモ\n",
    "\n",
    "1. **「疑わしい」であって、偽ではない。**：判定基準より小さいからと言って、絶対に正しいということはありません。あくまで確率的に見て疑わしいという事です。\n",
    "1. **判定基準を疑う必要はいつもある** : 判定基準が疑わしい可能性は常にあります。10％ではなく5％とすれば、この検定は覆ります。\n",
    "\n",
    "--- \n",
    "\n",
    "### 用語\n",
    "\n",
    "例題を題材に、用語を解説します。\n",
    "\n",
    "+ **帰無仮説**: 検定の最初に立てる仮説。（`渡されたコインセットは二枚とも普通のコイン`）。$H_0$（Hはhypothesis）\n",
    "+ **対立仮説**: 帰無仮説に対する仮説。ここでは、渡されたのは不正なコインである。となる。$H_1$\n",
    "+ **P値**：帰無仮説が正しい場合、観測した事象よりも極端な事が起こる確率。<br>ここでは、2回振っても全部ウラという事が極端な事と思い検定しているので、`6.25%`がP値になる。\n",
    "+ **有意水準**: 滅多に起こらないと判断する確率。<br>ここでは`１０％`。\n",
    "\n",
    "+ **帰無仮説が棄却される**：P値が有意水準よりも小さい、ということは、「検定する時に立てた仮説（帰無仮説）において、発生した事象が起きる（2回振って全部ウラ）確率であるP値が、滅多に起こらないであろうと決めた有意水準を下回ったということで、仮説が間違っていた。つまり対立仮説が正しかった」ということ。\n",
    "\n",
    "![](http://bellcurve.jp/statistics/wp-body/wp-content/uploads/2016/11/c8856789ec11ab8b1013037cef6929f9-1.png)\n",
    "[23-2. 検定で使う用語 | 統計学の時間 | 統計WEB](https://bellcurve.jp/statistics/course/9311.html)より\n",
    "\n"
   ]
  },
  {
   "cell_type": "code",
   "execution_count": 15,
   "metadata": {},
   "outputs": [
    {
     "data": {
      "text/plain": [
       "<matplotlib.axes._subplots.AxesSubplot at 0x7f5af479f400>"
      ]
     },
     "execution_count": 15,
     "metadata": {},
     "output_type": "execute_result"
    },
    {
     "data": {
      "image/png": "[encoded data removed]",
      "text/plain": [
       "<Figure size 432x288 with 1 Axes>"
      ]
     },
     "metadata": {
      "needs_background": "light"
     },
     "output_type": "display_data"
    }
   ],
   "source": [
    "## では、日経平均の前日比の分布は正規分布に従う、という検定を行う。\n",
    "## 帰無仮説:日経平均の前日の分布は正規分布に従う、\n",
    "## 問題は有意水準を決めることが出来ないということ\n",
    "## しかし、もしP値がすごく小さいなら、p＜有意水準 となる確率が高いので、帰無仮説が棄却され、対立仮説が正しい可能性が高くなる\n",
    "## つまり、日経平均の前日比の分布は正規分布に従わない、可能性が高くなる。\n",
    "\n",
    "%matplotlib inline\n",
    "import scipy.stats as stats\n",
    "import pandas as pd \n",
    "\n",
    "# filepath \n",
    "f = \"/tmp/nikkei_stock_average_daily_jp.csv\"\n",
    "df = pd.read_csv(f, encoding=\"shift-jis\",  sep=',', index_col=\"データ日付\")\n",
    "df.tail()\n",
    "day_return = df[\"終値\"].pct_change()\n",
    "\n",
    "day_return.hist(bins=50)"
   ]
  },
  {
   "cell_type": "code",
   "execution_count": 11,
   "metadata": {},
   "outputs": [
    {
     "data": {
      "text/plain": [
       "(0.9188351631164551, 4.499407138665105e-22)"
      ]
     },
     "execution_count": 11,
     "metadata": {},
     "output_type": "execute_result"
    }
   ],
   "source": [
    "W, p=stats.shapiro(day_return.dropna())\n",
    "\n",
    "W, p\n",
    "## p値ちっちゃ。＝正規分布に従ってない！？"
   ]
  }
 ],
 "metadata": {
  "kernelspec": {
   "display_name": "Python 3",
   "language": "python",
   "name": "python3"
  },
  "language_info": {
   "codemirror_mode": {
    "name": "ipython",
    "version": 3
   },
   "file_extension": ".py",
   "mimetype": "text/x-python",
   "name": "python",
   "nbconvert_exporter": "python",
   "pygments_lexer": "ipython3",
   "version": "3.6.6"
  }
 },
 "nbformat": 4,
 "nbformat_minor": 2
}
