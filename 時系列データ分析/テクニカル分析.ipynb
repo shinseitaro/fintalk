{
 "cells": [
  {
   "cell_type": "markdown",
   "metadata": {},
   "source": [
    "## もくじ\n",
    "1. テクニカル分析とは\n",
    "1. テクニカル分析をする上で最低限知っておかなくてはいけない DataFrame の使い方\n",
    "\n",
    "    1. データインポート　datetime, columns 処理も\n",
    "    1. データアレンジ　欠損値など\n",
    "    1. 関数とテクニック shift, pct_change(), bool値\n",
    "    1. 描画\n",
    "    1. 練習問題\n",
    "\n",
    "1. テクニカル分析\n",
    "    1. トレンド系\n",
    "        1. 移動平均\n",
    "        1. ボリンジャーバンド\n",
    "        1. モメンタム\n",
    "        1. HLバンド\n",
    "    1. オシレーター系\n",
    "        1. RSI\n",
    "        1. MACD\n",
    "        1. 株価カイリ率    \n",
    "    1. 練習問題\n",
    "\n"
   ]
  },
  {
   "cell_type": "markdown",
   "metadata": {},
   "source": [
    "## テクニカルとは\n",
    "\n",
    "テクニカル分析というのは、\n",
    "\n",
    "データから指標を作り、その指標と現在の値との関係を元に、将来を予測するもの\n",
    "（と私は考えています）\n",
    "\n",
    "指標とは、[Wikipedia](https://ja.wikipedia.org/wiki/%E6%8C%87%E6%A8%99)先生によると、**物事を判断したり評価したりするための目じるしとなるもの**です。（なるほど！)\n"
   ]
  },
  {
   "cell_type": "markdown",
   "metadata": {},
   "source": [
    "## テクニカル分析をする上で最低限知っておかなくてはいけない DataFrame の使い方\n",
    "\n",
    "テクニカル分析をする前に、知っておいてほうがよい pandas DataFrame の基本的な使い方を紹介します。これがすべてというわけではありませんが、ここでは必須知識ですので、覚えてください。\n",
    "\n",
    "### データインポート\n",
    "\n",
    "ここでは csv のデータのインポートと、その後の処理を行います。\n",
    "\n",
    "まずは、[日経平均プロフィル-日経の指数公式サイト-　ダウンロードセンター](https://indexes.nikkei.co.jp/nkave/index?type=download)から，`日経平均株価＞日次データ`をダウロードしてください。そのファイルをDataFrame化します。\n",
    "\n"
   ]
  },
  {
   "cell_type": "code",
   "execution_count": 1,
   "metadata": {},
   "outputs": [
    {
     "data": {
      "text/html": [
       "<div>\n",
       "<table border=\"1\" class=\"dataframe\">\n",
       "  <thead>\n",
       "    <tr style=\"text-align: right;\">\n",
       "      <th></th>\n",
       "      <th>終値</th>\n",
       "      <th>始値</th>\n",
       "      <th>高値</th>\n",
       "      <th>安値</th>\n",
       "    </tr>\n",
       "    <tr>\n",
       "      <th>データ日付</th>\n",
       "      <th></th>\n",
       "      <th></th>\n",
       "      <th></th>\n",
       "      <th></th>\n",
       "    </tr>\n",
       "  </thead>\n",
       "  <tbody>\n",
       "    <tr>\n",
       "      <th>2018/11/29</th>\n",
       "      <td>22262.60</td>\n",
       "      <td>22360.98</td>\n",
       "      <td>22437.95</td>\n",
       "      <td>22241.17</td>\n",
       "    </tr>\n",
       "    <tr>\n",
       "      <th>2018/11/30</th>\n",
       "      <td>22351.06</td>\n",
       "      <td>22274.97</td>\n",
       "      <td>22362.20</td>\n",
       "      <td>22231.96</td>\n",
       "    </tr>\n",
       "    <tr>\n",
       "      <th>2018/12/03</th>\n",
       "      <td>22574.76</td>\n",
       "      <td>22629.39</td>\n",
       "      <td>22698.79</td>\n",
       "      <td>22550.29</td>\n",
       "    </tr>\n",
       "    <tr>\n",
       "      <th>2018/12/04</th>\n",
       "      <td>22036.05</td>\n",
       "      <td>22533.97</td>\n",
       "      <td>22576.62</td>\n",
       "      <td>22033.41</td>\n",
       "    </tr>\n",
       "    <tr>\n",
       "      <th>2018/12/05</th>\n",
       "      <td>21919.33</td>\n",
       "      <td>21755.17</td>\n",
       "      <td>21979.18</td>\n",
       "      <td>21708.82</td>\n",
       "    </tr>\n",
       "  </tbody>\n",
       "</table>\n",
       "</div>"
      ],
      "text/plain": [
       "                  終値        始値        高値        安値\n",
       "データ日付                                             \n",
       "2018/11/29  22262.60  22360.98  22437.95  22241.17\n",
       "2018/11/30  22351.06  22274.97  22362.20  22231.96\n",
       "2018/12/03  22574.76  22629.39  22698.79  22550.29\n",
       "2018/12/04  22036.05  22533.97  22576.62  22033.41\n",
       "2018/12/05  21919.33  21755.17  21979.18  21708.82"
      ]
     },
     "execution_count": 1,
     "metadata": {},
     "output_type": "execute_result"
    }
   ],
   "source": [
    "\n",
    "import pandas as pd \n",
    "\n",
    "# 適宜変更\n",
    "fpath = '/tmp/nikkei_stock_average_daily_jp.csv'\n",
    "\n",
    "df = pd.read_csv(fpath, \n",
    "                 encoding=\"shift-jis\", # ここを外すとエンコードエラーが出る\n",
    "                 index_col=\"データ日付\", # index コラムを指定\n",
    "                 )\n",
    "# 最終行にいらないコメントが入っているのでそれを除去\n",
    "df = df.iloc[:-1] \n",
    "# DataFrame を確認するために、tail()で最終行を確認。.head() でもOK\n",
    "df.tail()\n",
    "\n"
   ]
  },
  {
   "cell_type": "markdown",
   "metadata": {},
   "source": [
    "#### ポイント＆解説\n",
    "\n",
    "+ 慣習として DataFrame の変数は `df` とされる場合がおおい。\n",
    "+ `encoding=` をはずとと`UnicodeDecodeError: 'utf-8' codec can't decode byte 0x83 in position 0: invalid start byte` \n",
    "+ ダウンロードしたファイルの最終行に、`本資料は日経の著作物であり、本資料の全部又は一部を・・・・`というコメントが入っているのでそれをスライスで削除\n",
    "\n",
    "\n",
    "### データアレンジ\n",
    "\n",
    "データの型を確認しましょう。パッと見て、数字や日次の様にみえて、実はただの文字列オブジェクトだったということはよく有ります。\n"
   ]
  },
  {
   "cell_type": "code",
   "execution_count": 2,
   "metadata": {},
   "outputs": [
    {
     "data": {
      "text/plain": [
       "Index(['2015/01/05', '2015/01/06', '2015/01/07', '2015/01/08', '2015/01/09',\n",
       "       '2015/01/13', '2015/01/14', '2015/01/15', '2015/01/16', '2015/01/19',\n",
       "       ...\n",
       "       '2018/11/21', '2018/11/22', '2018/11/26', '2018/11/27', '2018/11/28',\n",
       "       '2018/11/29', '2018/11/30', '2018/12/03', '2018/12/04', '2018/12/05'],\n",
       "      dtype='object', name='データ日付', length=965)"
      ]
     },
     "execution_count": 2,
     "metadata": {},
     "output_type": "execute_result"
    }
   ],
   "source": [
    "# まずはデータ日付index. \n",
    "# dtype=が Datetimeindex でなくては行けません。\n",
    "df.index"
   ]
  },
  {
   "cell_type": "code",
   "execution_count": 3,
   "metadata": {},
   "outputs": [
    {
     "data": {
      "text/plain": [
       "DatetimeIndex(['2015-01-05', '2015-01-06', '2015-01-07', '2015-01-08',\n",
       "               '2015-01-09', '2015-01-13', '2015-01-14', '2015-01-15',\n",
       "               '2015-01-16', '2015-01-19',\n",
       "               ...\n",
       "               '2018-11-21', '2018-11-22', '2018-11-26', '2018-11-27',\n",
       "               '2018-11-28', '2018-11-29', '2018-11-30', '2018-12-03',\n",
       "               '2018-12-04', '2018-12-05'],\n",
       "              dtype='datetime64[ns]', name='データ日付', length=965, freq=None)"
      ]
     },
     "execution_count": 3,
     "metadata": {},
     "output_type": "execute_result"
    }
   ],
   "source": [
    "df.index = pd.to_datetime(df.index)\n",
    "df.index"
   ]
  },
  {
   "cell_type": "code",
   "execution_count": 4,
   "metadata": {},
   "outputs": [
    {
     "data": {
      "text/plain": [
       "データ日付\n",
       "2015-01-05    17408.71\n",
       "2015-01-06    16883.19\n",
       "2015-01-07    16885.33\n",
       "2015-01-08    17167.10\n",
       "2015-01-09    17197.73\n",
       "Name: 終値, dtype: float64"
      ]
     },
     "execution_count": 4,
     "metadata": {},
     "output_type": "execute_result"
    }
   ],
   "source": [
    "# 次は価格。dtypeが数値型であればOK. 他のコラムも念の為確認しておきましょう。\n",
    "df[\"終値\"].head()\n"
   ]
  },
  {
   "cell_type": "markdown",
   "metadata": {},
   "source": [
    "コラム名を日本語から英語に変えたい人もいるかもしれません（私も英語派です）。その時はこのように辞書型を渡せばよいです。"
   ]
  },
  {
   "cell_type": "code",
   "execution_count": 5,
   "metadata": {},
   "outputs": [
    {
     "data": {
      "text/html": [
       "<div>\n",
       "<table border=\"1\" class=\"dataframe\">\n",
       "  <thead>\n",
       "    <tr style=\"text-align: right;\">\n",
       "      <th></th>\n",
       "      <th>close</th>\n",
       "      <th>open</th>\n",
       "      <th>high</th>\n",
       "      <th>low</th>\n",
       "    </tr>\n",
       "    <tr>\n",
       "      <th>データ日付</th>\n",
       "      <th></th>\n",
       "      <th></th>\n",
       "      <th></th>\n",
       "      <th></th>\n",
       "    </tr>\n",
       "  </thead>\n",
       "  <tbody>\n",
       "    <tr>\n",
       "      <th>2015-01-05</th>\n",
       "      <td>17408.71</td>\n",
       "      <td>17325.68</td>\n",
       "      <td>17540.92</td>\n",
       "      <td>17219.22</td>\n",
       "    </tr>\n",
       "    <tr>\n",
       "      <th>2015-01-06</th>\n",
       "      <td>16883.19</td>\n",
       "      <td>17101.58</td>\n",
       "      <td>17111.36</td>\n",
       "      <td>16881.73</td>\n",
       "    </tr>\n",
       "    <tr>\n",
       "      <th>2015-01-07</th>\n",
       "      <td>16885.33</td>\n",
       "      <td>16808.26</td>\n",
       "      <td>16974.61</td>\n",
       "      <td>16808.26</td>\n",
       "    </tr>\n",
       "    <tr>\n",
       "      <th>2015-01-08</th>\n",
       "      <td>17167.10</td>\n",
       "      <td>17067.40</td>\n",
       "      <td>17243.71</td>\n",
       "      <td>17016.09</td>\n",
       "    </tr>\n",
       "    <tr>\n",
       "      <th>2015-01-09</th>\n",
       "      <td>17197.73</td>\n",
       "      <td>17318.74</td>\n",
       "      <td>17342.65</td>\n",
       "      <td>17129.53</td>\n",
       "    </tr>\n",
       "  </tbody>\n",
       "</table>\n",
       "</div>"
      ],
      "text/plain": [
       "               close      open      high       low\n",
       "データ日付                                             \n",
       "2015-01-05  17408.71  17325.68  17540.92  17219.22\n",
       "2015-01-06  16883.19  17101.58  17111.36  16881.73\n",
       "2015-01-07  16885.33  16808.26  16974.61  16808.26\n",
       "2015-01-08  17167.10  17067.40  17243.71  17016.09\n",
       "2015-01-09  17197.73  17318.74  17342.65  17129.53"
      ]
     },
     "execution_count": 5,
     "metadata": {},
     "output_type": "execute_result"
    }
   ],
   "source": [
    "df = df.rename(columns={\"終値\":\"close\", \"始値\":\"open\", \"高値\":\"high\", \"安値\":\"low\"})\n",
    "df.head()"
   ]
  },
  {
   "cell_type": "code",
   "execution_count": 6,
   "metadata": {},
   "outputs": [
    {
     "data": {
      "text/html": [
       "<div>\n",
       "<table border=\"1\" class=\"dataframe\">\n",
       "  <thead>\n",
       "    <tr style=\"text-align: right;\">\n",
       "      <th></th>\n",
       "      <th>close</th>\n",
       "      <th>open</th>\n",
       "      <th>high</th>\n",
       "      <th>low</th>\n",
       "    </tr>\n",
       "    <tr>\n",
       "      <th>datetime</th>\n",
       "      <th></th>\n",
       "      <th></th>\n",
       "      <th></th>\n",
       "      <th></th>\n",
       "    </tr>\n",
       "  </thead>\n",
       "  <tbody>\n",
       "    <tr>\n",
       "      <th>2015-01-05</th>\n",
       "      <td>17408.71</td>\n",
       "      <td>17325.68</td>\n",
       "      <td>17540.92</td>\n",
       "      <td>17219.22</td>\n",
       "    </tr>\n",
       "    <tr>\n",
       "      <th>2015-01-06</th>\n",
       "      <td>16883.19</td>\n",
       "      <td>17101.58</td>\n",
       "      <td>17111.36</td>\n",
       "      <td>16881.73</td>\n",
       "    </tr>\n",
       "    <tr>\n",
       "      <th>2015-01-07</th>\n",
       "      <td>16885.33</td>\n",
       "      <td>16808.26</td>\n",
       "      <td>16974.61</td>\n",
       "      <td>16808.26</td>\n",
       "    </tr>\n",
       "    <tr>\n",
       "      <th>2015-01-08</th>\n",
       "      <td>17167.10</td>\n",
       "      <td>17067.40</td>\n",
       "      <td>17243.71</td>\n",
       "      <td>17016.09</td>\n",
       "    </tr>\n",
       "    <tr>\n",
       "      <th>2015-01-09</th>\n",
       "      <td>17197.73</td>\n",
       "      <td>17318.74</td>\n",
       "      <td>17342.65</td>\n",
       "      <td>17129.53</td>\n",
       "    </tr>\n",
       "  </tbody>\n",
       "</table>\n",
       "</div>"
      ],
      "text/plain": [
       "               close      open      high       low\n",
       "datetime                                          \n",
       "2015-01-05  17408.71  17325.68  17540.92  17219.22\n",
       "2015-01-06  16883.19  17101.58  17111.36  16881.73\n",
       "2015-01-07  16885.33  16808.26  16974.61  16808.26\n",
       "2015-01-08  17167.10  17067.40  17243.71  17016.09\n",
       "2015-01-09  17197.73  17318.74  17342.65  17129.53"
      ]
     },
     "execution_count": 6,
     "metadata": {},
     "output_type": "execute_result"
    }
   ],
   "source": [
    "# 一旦index化したコラム名は、このように変更します。\n",
    "df.index.name = \"datetime\"\n",
    "df.head()"
   ]
  },
  {
   "cell_type": "markdown",
   "metadata": {},
   "source": [
    "### 関数とテクニック\n",
    "\n",
    "DataFrameを使って分析する時にどうしても覚えなくてはいけない関数とテクニックを書きます。\n",
    "\n",
    "#### shift \n",
    "\n",
    "データを上げさげする。\n"
   ]
  },
  {
   "cell_type": "code",
   "execution_count": 7,
   "metadata": {},
   "outputs": [
    {
     "data": {
      "text/html": [
       "<div>\n",
       "<table border=\"1\" class=\"dataframe\">\n",
       "  <thead>\n",
       "    <tr style=\"text-align: right;\">\n",
       "      <th></th>\n",
       "      <th>close</th>\n",
       "      <th>open</th>\n",
       "      <th>high</th>\n",
       "      <th>low</th>\n",
       "    </tr>\n",
       "    <tr>\n",
       "      <th>datetime</th>\n",
       "      <th></th>\n",
       "      <th></th>\n",
       "      <th></th>\n",
       "      <th></th>\n",
       "    </tr>\n",
       "  </thead>\n",
       "  <tbody>\n",
       "    <tr>\n",
       "      <th>2015-01-05</th>\n",
       "      <td>NaN</td>\n",
       "      <td>NaN</td>\n",
       "      <td>NaN</td>\n",
       "      <td>NaN</td>\n",
       "    </tr>\n",
       "    <tr>\n",
       "      <th>2015-01-06</th>\n",
       "      <td>17408.71</td>\n",
       "      <td>17325.68</td>\n",
       "      <td>17540.92</td>\n",
       "      <td>17219.22</td>\n",
       "    </tr>\n",
       "    <tr>\n",
       "      <th>2015-01-07</th>\n",
       "      <td>16883.19</td>\n",
       "      <td>17101.58</td>\n",
       "      <td>17111.36</td>\n",
       "      <td>16881.73</td>\n",
       "    </tr>\n",
       "    <tr>\n",
       "      <th>2015-01-08</th>\n",
       "      <td>16885.33</td>\n",
       "      <td>16808.26</td>\n",
       "      <td>16974.61</td>\n",
       "      <td>16808.26</td>\n",
       "    </tr>\n",
       "    <tr>\n",
       "      <th>2015-01-09</th>\n",
       "      <td>17167.10</td>\n",
       "      <td>17067.40</td>\n",
       "      <td>17243.71</td>\n",
       "      <td>17016.09</td>\n",
       "    </tr>\n",
       "  </tbody>\n",
       "</table>\n",
       "</div>"
      ],
      "text/plain": [
       "               close      open      high       low\n",
       "datetime                                          \n",
       "2015-01-05       NaN       NaN       NaN       NaN\n",
       "2015-01-06  17408.71  17325.68  17540.92  17219.22\n",
       "2015-01-07  16883.19  17101.58  17111.36  16881.73\n",
       "2015-01-08  16885.33  16808.26  16974.61  16808.26\n",
       "2015-01-09  17167.10  17067.40  17243.71  17016.09"
      ]
     },
     "execution_count": 7,
     "metadata": {},
     "output_type": "execute_result"
    }
   ],
   "source": [
    "df.shift(1).head()"
   ]
  },
  {
   "cell_type": "code",
   "execution_count": 8,
   "metadata": {},
   "outputs": [
    {
     "data": {
      "text/html": [
       "<div>\n",
       "<table border=\"1\" class=\"dataframe\">\n",
       "  <thead>\n",
       "    <tr style=\"text-align: right;\">\n",
       "      <th></th>\n",
       "      <th>close</th>\n",
       "      <th>open</th>\n",
       "      <th>high</th>\n",
       "      <th>low</th>\n",
       "      <th>yesterday's close</th>\n",
       "    </tr>\n",
       "    <tr>\n",
       "      <th>datetime</th>\n",
       "      <th></th>\n",
       "      <th></th>\n",
       "      <th></th>\n",
       "      <th></th>\n",
       "      <th></th>\n",
       "    </tr>\n",
       "  </thead>\n",
       "  <tbody>\n",
       "    <tr>\n",
       "      <th>2015-01-05</th>\n",
       "      <td>17408.71</td>\n",
       "      <td>17325.68</td>\n",
       "      <td>17540.92</td>\n",
       "      <td>17219.22</td>\n",
       "      <td>NaN</td>\n",
       "    </tr>\n",
       "    <tr>\n",
       "      <th>2015-01-06</th>\n",
       "      <td>16883.19</td>\n",
       "      <td>17101.58</td>\n",
       "      <td>17111.36</td>\n",
       "      <td>16881.73</td>\n",
       "      <td>17408.71</td>\n",
       "    </tr>\n",
       "    <tr>\n",
       "      <th>2015-01-07</th>\n",
       "      <td>16885.33</td>\n",
       "      <td>16808.26</td>\n",
       "      <td>16974.61</td>\n",
       "      <td>16808.26</td>\n",
       "      <td>16883.19</td>\n",
       "    </tr>\n",
       "    <tr>\n",
       "      <th>2015-01-08</th>\n",
       "      <td>17167.10</td>\n",
       "      <td>17067.40</td>\n",
       "      <td>17243.71</td>\n",
       "      <td>17016.09</td>\n",
       "      <td>16885.33</td>\n",
       "    </tr>\n",
       "    <tr>\n",
       "      <th>2015-01-09</th>\n",
       "      <td>17197.73</td>\n",
       "      <td>17318.74</td>\n",
       "      <td>17342.65</td>\n",
       "      <td>17129.53</td>\n",
       "      <td>17167.10</td>\n",
       "    </tr>\n",
       "  </tbody>\n",
       "</table>\n",
       "</div>"
      ],
      "text/plain": [
       "               close      open      high       low  yesterday's close\n",
       "datetime                                                             \n",
       "2015-01-05  17408.71  17325.68  17540.92  17219.22                NaN\n",
       "2015-01-06  16883.19  17101.58  17111.36  16881.73           17408.71\n",
       "2015-01-07  16885.33  16808.26  16974.61  16808.26           16883.19\n",
       "2015-01-08  17167.10  17067.40  17243.71  17016.09           16885.33\n",
       "2015-01-09  17197.73  17318.74  17342.65  17129.53           17167.10"
      ]
     },
     "execution_count": 8,
     "metadata": {},
     "output_type": "execute_result"
    }
   ],
   "source": [
    "df_test = df.copy()\n",
    "df_test[\"yesterday's close\"] = df[\"close\"].shift(1)\n",
    "df_test.head()"
   ]
  },
  {
   "cell_type": "code",
   "execution_count": 9,
   "metadata": {},
   "outputs": [
    {
     "data": {
      "text/html": [
       "<div>\n",
       "<table border=\"1\" class=\"dataframe\">\n",
       "  <thead>\n",
       "    <tr style=\"text-align: right;\">\n",
       "      <th></th>\n",
       "      <th>close</th>\n",
       "      <th>open</th>\n",
       "      <th>high</th>\n",
       "      <th>low</th>\n",
       "      <th>tomorrow's open</th>\n",
       "    </tr>\n",
       "    <tr>\n",
       "      <th>datetime</th>\n",
       "      <th></th>\n",
       "      <th></th>\n",
       "      <th></th>\n",
       "      <th></th>\n",
       "      <th></th>\n",
       "    </tr>\n",
       "  </thead>\n",
       "  <tbody>\n",
       "    <tr>\n",
       "      <th>2015-01-05</th>\n",
       "      <td>17408.71</td>\n",
       "      <td>17325.68</td>\n",
       "      <td>17540.92</td>\n",
       "      <td>17219.22</td>\n",
       "      <td>17101.58</td>\n",
       "    </tr>\n",
       "    <tr>\n",
       "      <th>2015-01-06</th>\n",
       "      <td>16883.19</td>\n",
       "      <td>17101.58</td>\n",
       "      <td>17111.36</td>\n",
       "      <td>16881.73</td>\n",
       "      <td>16808.26</td>\n",
       "    </tr>\n",
       "    <tr>\n",
       "      <th>2015-01-07</th>\n",
       "      <td>16885.33</td>\n",
       "      <td>16808.26</td>\n",
       "      <td>16974.61</td>\n",
       "      <td>16808.26</td>\n",
       "      <td>17067.40</td>\n",
       "    </tr>\n",
       "    <tr>\n",
       "      <th>2015-01-08</th>\n",
       "      <td>17167.10</td>\n",
       "      <td>17067.40</td>\n",
       "      <td>17243.71</td>\n",
       "      <td>17016.09</td>\n",
       "      <td>17318.74</td>\n",
       "    </tr>\n",
       "    <tr>\n",
       "      <th>2015-01-09</th>\n",
       "      <td>17197.73</td>\n",
       "      <td>17318.74</td>\n",
       "      <td>17342.65</td>\n",
       "      <td>17129.53</td>\n",
       "      <td>16970.88</td>\n",
       "    </tr>\n",
       "  </tbody>\n",
       "</table>\n",
       "</div>"
      ],
      "text/plain": [
       "               close      open      high       low  tomorrow's open\n",
       "datetime                                                           \n",
       "2015-01-05  17408.71  17325.68  17540.92  17219.22         17101.58\n",
       "2015-01-06  16883.19  17101.58  17111.36  16881.73         16808.26\n",
       "2015-01-07  16885.33  16808.26  16974.61  16808.26         17067.40\n",
       "2015-01-08  17167.10  17067.40  17243.71  17016.09         17318.74\n",
       "2015-01-09  17197.73  17318.74  17342.65  17129.53         16970.88"
      ]
     },
     "execution_count": 9,
     "metadata": {},
     "output_type": "execute_result"
    }
   ],
   "source": [
    "df_test = df.copy()\n",
    "df_test[\"tomorrow's open\"] = df[\"open\"].shift(-1)\n",
    "df_test.head()"
   ]
  },
  {
   "cell_type": "markdown",
   "metadata": {},
   "source": [
    "#### pct_change() \n",
    "\n",
    "n行前のデータからの変化率を出す。\n",
    "\n"
   ]
  },
  {
   "cell_type": "code",
   "execution_count": 10,
   "metadata": {},
   "outputs": [
    {
     "data": {
      "text/html": [
       "<div>\n",
       "<table border=\"1\" class=\"dataframe\">\n",
       "  <thead>\n",
       "    <tr style=\"text-align: right;\">\n",
       "      <th></th>\n",
       "      <th>close</th>\n",
       "      <th>open</th>\n",
       "      <th>high</th>\n",
       "      <th>low</th>\n",
       "    </tr>\n",
       "    <tr>\n",
       "      <th>datetime</th>\n",
       "      <th></th>\n",
       "      <th></th>\n",
       "      <th></th>\n",
       "      <th></th>\n",
       "    </tr>\n",
       "  </thead>\n",
       "  <tbody>\n",
       "    <tr>\n",
       "      <th>2015-01-05</th>\n",
       "      <td>NaN</td>\n",
       "      <td>NaN</td>\n",
       "      <td>NaN</td>\n",
       "      <td>NaN</td>\n",
       "    </tr>\n",
       "    <tr>\n",
       "      <th>2015-01-06</th>\n",
       "      <td>-0.030187</td>\n",
       "      <td>-0.012935</td>\n",
       "      <td>-0.024489</td>\n",
       "      <td>-0.019600</td>\n",
       "    </tr>\n",
       "    <tr>\n",
       "      <th>2015-01-07</th>\n",
       "      <td>0.000127</td>\n",
       "      <td>-0.017152</td>\n",
       "      <td>-0.007992</td>\n",
       "      <td>-0.004352</td>\n",
       "    </tr>\n",
       "    <tr>\n",
       "      <th>2015-01-08</th>\n",
       "      <td>0.016687</td>\n",
       "      <td>0.015417</td>\n",
       "      <td>0.015853</td>\n",
       "      <td>0.012365</td>\n",
       "    </tr>\n",
       "    <tr>\n",
       "      <th>2015-01-09</th>\n",
       "      <td>0.001784</td>\n",
       "      <td>0.014726</td>\n",
       "      <td>0.005738</td>\n",
       "      <td>0.006667</td>\n",
       "    </tr>\n",
       "  </tbody>\n",
       "</table>\n",
       "</div>"
      ],
      "text/plain": [
       "               close      open      high       low\n",
       "datetime                                          \n",
       "2015-01-05       NaN       NaN       NaN       NaN\n",
       "2015-01-06 -0.030187 -0.012935 -0.024489 -0.019600\n",
       "2015-01-07  0.000127 -0.017152 -0.007992 -0.004352\n",
       "2015-01-08  0.016687  0.015417  0.015853  0.012365\n",
       "2015-01-09  0.001784  0.014726  0.005738  0.006667"
      ]
     },
     "execution_count": 10,
     "metadata": {},
     "output_type": "execute_result"
    }
   ],
   "source": [
    "df.pct_change().head()"
   ]
  },
  {
   "cell_type": "code",
   "execution_count": 11,
   "metadata": {},
   "outputs": [
    {
     "data": {
      "text/html": [
       "<div>\n",
       "<table border=\"1\" class=\"dataframe\">\n",
       "  <thead>\n",
       "    <tr style=\"text-align: right;\">\n",
       "      <th></th>\n",
       "      <th>close</th>\n",
       "      <th>open</th>\n",
       "      <th>high</th>\n",
       "      <th>low</th>\n",
       "      <th>day return</th>\n",
       "    </tr>\n",
       "    <tr>\n",
       "      <th>datetime</th>\n",
       "      <th></th>\n",
       "      <th></th>\n",
       "      <th></th>\n",
       "      <th></th>\n",
       "      <th></th>\n",
       "    </tr>\n",
       "  </thead>\n",
       "  <tbody>\n",
       "    <tr>\n",
       "      <th>2015-01-05</th>\n",
       "      <td>17408.71</td>\n",
       "      <td>17325.68</td>\n",
       "      <td>17540.92</td>\n",
       "      <td>17219.22</td>\n",
       "      <td>NaN</td>\n",
       "    </tr>\n",
       "    <tr>\n",
       "      <th>2015-01-06</th>\n",
       "      <td>16883.19</td>\n",
       "      <td>17101.58</td>\n",
       "      <td>17111.36</td>\n",
       "      <td>16881.73</td>\n",
       "      <td>-0.030187</td>\n",
       "    </tr>\n",
       "    <tr>\n",
       "      <th>2015-01-07</th>\n",
       "      <td>16885.33</td>\n",
       "      <td>16808.26</td>\n",
       "      <td>16974.61</td>\n",
       "      <td>16808.26</td>\n",
       "      <td>0.000127</td>\n",
       "    </tr>\n",
       "    <tr>\n",
       "      <th>2015-01-08</th>\n",
       "      <td>17167.10</td>\n",
       "      <td>17067.40</td>\n",
       "      <td>17243.71</td>\n",
       "      <td>17016.09</td>\n",
       "      <td>0.016687</td>\n",
       "    </tr>\n",
       "    <tr>\n",
       "      <th>2015-01-09</th>\n",
       "      <td>17197.73</td>\n",
       "      <td>17318.74</td>\n",
       "      <td>17342.65</td>\n",
       "      <td>17129.53</td>\n",
       "      <td>0.001784</td>\n",
       "    </tr>\n",
       "  </tbody>\n",
       "</table>\n",
       "</div>"
      ],
      "text/plain": [
       "               close      open      high       low  day return\n",
       "datetime                                                      \n",
       "2015-01-05  17408.71  17325.68  17540.92  17219.22         NaN\n",
       "2015-01-06  16883.19  17101.58  17111.36  16881.73   -0.030187\n",
       "2015-01-07  16885.33  16808.26  16974.61  16808.26    0.000127\n",
       "2015-01-08  17167.10  17067.40  17243.71  17016.09    0.016687\n",
       "2015-01-09  17197.73  17318.74  17342.65  17129.53    0.001784"
      ]
     },
     "execution_count": 11,
     "metadata": {},
     "output_type": "execute_result"
    }
   ],
   "source": [
    "df_test = df.copy()\n",
    "df_test[\"day return\"] = df[\"close\"].pct_change() # day return = 日次収益率\n",
    "df_test.head()"
   ]
  },
  {
   "cell_type": "code",
   "execution_count": 12,
   "metadata": {},
   "outputs": [
    {
     "data": {
      "text/html": [
       "<div>\n",
       "<table border=\"1\" class=\"dataframe\">\n",
       "  <thead>\n",
       "    <tr style=\"text-align: right;\">\n",
       "      <th></th>\n",
       "      <th>close</th>\n",
       "      <th>open</th>\n",
       "      <th>high</th>\n",
       "      <th>low</th>\n",
       "    </tr>\n",
       "    <tr>\n",
       "      <th>datetime</th>\n",
       "      <th></th>\n",
       "      <th></th>\n",
       "      <th></th>\n",
       "      <th></th>\n",
       "    </tr>\n",
       "  </thead>\n",
       "  <tbody>\n",
       "    <tr>\n",
       "      <th>2015-01-05</th>\n",
       "      <td>NaN</td>\n",
       "      <td>NaN</td>\n",
       "      <td>NaN</td>\n",
       "      <td>NaN</td>\n",
       "    </tr>\n",
       "    <tr>\n",
       "      <th>2015-01-06</th>\n",
       "      <td>-0.030187</td>\n",
       "      <td>-0.012935</td>\n",
       "      <td>-0.024489</td>\n",
       "      <td>-0.019600</td>\n",
       "    </tr>\n",
       "    <tr>\n",
       "      <th>2015-01-07</th>\n",
       "      <td>0.000127</td>\n",
       "      <td>-0.017152</td>\n",
       "      <td>-0.007992</td>\n",
       "      <td>-0.004352</td>\n",
       "    </tr>\n",
       "    <tr>\n",
       "      <th>2015-01-08</th>\n",
       "      <td>0.016687</td>\n",
       "      <td>0.015417</td>\n",
       "      <td>0.015853</td>\n",
       "      <td>0.012365</td>\n",
       "    </tr>\n",
       "    <tr>\n",
       "      <th>2015-01-09</th>\n",
       "      <td>0.001784</td>\n",
       "      <td>0.014726</td>\n",
       "      <td>0.005738</td>\n",
       "      <td>0.006667</td>\n",
       "    </tr>\n",
       "  </tbody>\n",
       "</table>\n",
       "</div>"
      ],
      "text/plain": [
       "               close      open      high       low\n",
       "datetime                                          \n",
       "2015-01-05       NaN       NaN       NaN       NaN\n",
       "2015-01-06 -0.030187 -0.012935 -0.024489 -0.019600\n",
       "2015-01-07  0.000127 -0.017152 -0.007992 -0.004352\n",
       "2015-01-08  0.016687  0.015417  0.015853  0.012365\n",
       "2015-01-09  0.001784  0.014726  0.005738  0.006667"
      ]
     },
     "execution_count": 12,
     "metadata": {},
     "output_type": "execute_result"
    }
   ],
   "source": [
    "# shift を使って同じ計算ができるが、混乱しやすいので pct_change()がおすすめ。\n",
    "\n",
    "(df / df.shift(1) - 1).head()"
   ]
  },
  {
   "cell_type": "markdown",
   "metadata": {},
   "source": [
    "#### ポイント：次の日の日次収益率を同じ行に入れて置きたい場合\n",
    "\n",
    "注意：コラムに名前をつけるとき将来の数値だわかるようにしておくことが大切。\n"
   ]
  },
  {
   "cell_type": "code",
   "execution_count": 13,
   "metadata": {},
   "outputs": [
    {
     "data": {
      "text/html": [
       "<div>\n",
       "<table border=\"1\" class=\"dataframe\">\n",
       "  <thead>\n",
       "    <tr style=\"text-align: right;\">\n",
       "      <th></th>\n",
       "      <th>close</th>\n",
       "      <th>open</th>\n",
       "      <th>high</th>\n",
       "      <th>low</th>\n",
       "      <th>day return</th>\n",
       "    </tr>\n",
       "    <tr>\n",
       "      <th>datetime</th>\n",
       "      <th></th>\n",
       "      <th></th>\n",
       "      <th></th>\n",
       "      <th></th>\n",
       "      <th></th>\n",
       "    </tr>\n",
       "  </thead>\n",
       "  <tbody>\n",
       "    <tr>\n",
       "      <th>2015-01-05</th>\n",
       "      <td>17408.71</td>\n",
       "      <td>17325.68</td>\n",
       "      <td>17540.92</td>\n",
       "      <td>17219.22</td>\n",
       "      <td>-0.030187</td>\n",
       "    </tr>\n",
       "    <tr>\n",
       "      <th>2015-01-06</th>\n",
       "      <td>16883.19</td>\n",
       "      <td>17101.58</td>\n",
       "      <td>17111.36</td>\n",
       "      <td>16881.73</td>\n",
       "      <td>0.000127</td>\n",
       "    </tr>\n",
       "    <tr>\n",
       "      <th>2015-01-07</th>\n",
       "      <td>16885.33</td>\n",
       "      <td>16808.26</td>\n",
       "      <td>16974.61</td>\n",
       "      <td>16808.26</td>\n",
       "      <td>0.016687</td>\n",
       "    </tr>\n",
       "    <tr>\n",
       "      <th>2015-01-08</th>\n",
       "      <td>17167.10</td>\n",
       "      <td>17067.40</td>\n",
       "      <td>17243.71</td>\n",
       "      <td>17016.09</td>\n",
       "      <td>0.001784</td>\n",
       "    </tr>\n",
       "    <tr>\n",
       "      <th>2015-01-09</th>\n",
       "      <td>17197.73</td>\n",
       "      <td>17318.74</td>\n",
       "      <td>17342.65</td>\n",
       "      <td>17129.53</td>\n",
       "      <td>-0.006397</td>\n",
       "    </tr>\n",
       "  </tbody>\n",
       "</table>\n",
       "</div>"
      ],
      "text/plain": [
       "               close      open      high       low  day return\n",
       "datetime                                                      \n",
       "2015-01-05  17408.71  17325.68  17540.92  17219.22   -0.030187\n",
       "2015-01-06  16883.19  17101.58  17111.36  16881.73    0.000127\n",
       "2015-01-07  16885.33  16808.26  16974.61  16808.26    0.016687\n",
       "2015-01-08  17167.10  17067.40  17243.71  17016.09    0.001784\n",
       "2015-01-09  17197.73  17318.74  17342.65  17129.53   -0.006397"
      ]
     },
     "execution_count": 13,
     "metadata": {},
     "output_type": "execute_result"
    }
   ],
   "source": [
    "df_test = df.copy()\n",
    "df_test[\"day return\"] = df[\"close\"].pct_change() # day return = 日次収益率\n",
    "df_test[\"day return\"] = df_test[\"day return\"].shift(-1)\n",
    "df_test.head()"
   ]
  },
  {
   "cell_type": "markdown",
   "metadata": {},
   "source": [
    "#### bool 値を使う\n",
    "\n",
    "bool値を使うと simulation をする時に便利です。\n",
    "\n",
    "例えば、始値から終値が上昇した場合、その日の大引けで買って、次の日の寄りで売るというsimulationを書いてみます。\n",
    "\n",
    "（一口メモ：大引けから寄りの間だけポジションを持つ事を、「オーバーナイトでポジションを持つ」といいます。）\n"
   ]
  },
  {
   "cell_type": "code",
   "execution_count": 14,
   "metadata": {},
   "outputs": [
    {
     "data": {
      "text/html": [
       "<div>\n",
       "<table border=\"1\" class=\"dataframe\">\n",
       "  <thead>\n",
       "    <tr style=\"text-align: right;\">\n",
       "      <th></th>\n",
       "      <th>close</th>\n",
       "      <th>open</th>\n",
       "      <th>high</th>\n",
       "      <th>low</th>\n",
       "      <th>intraday return</th>\n",
       "      <th>is intraday return positive</th>\n",
       "    </tr>\n",
       "    <tr>\n",
       "      <th>datetime</th>\n",
       "      <th></th>\n",
       "      <th></th>\n",
       "      <th></th>\n",
       "      <th></th>\n",
       "      <th></th>\n",
       "      <th></th>\n",
       "    </tr>\n",
       "  </thead>\n",
       "  <tbody>\n",
       "    <tr>\n",
       "      <th>2015-01-05</th>\n",
       "      <td>17408.71</td>\n",
       "      <td>17325.68</td>\n",
       "      <td>17540.92</td>\n",
       "      <td>17219.22</td>\n",
       "      <td>0.004792</td>\n",
       "      <td>True</td>\n",
       "    </tr>\n",
       "    <tr>\n",
       "      <th>2015-01-06</th>\n",
       "      <td>16883.19</td>\n",
       "      <td>17101.58</td>\n",
       "      <td>17111.36</td>\n",
       "      <td>16881.73</td>\n",
       "      <td>-0.012770</td>\n",
       "      <td>False</td>\n",
       "    </tr>\n",
       "    <tr>\n",
       "      <th>2015-01-07</th>\n",
       "      <td>16885.33</td>\n",
       "      <td>16808.26</td>\n",
       "      <td>16974.61</td>\n",
       "      <td>16808.26</td>\n",
       "      <td>0.004585</td>\n",
       "      <td>True</td>\n",
       "    </tr>\n",
       "    <tr>\n",
       "      <th>2015-01-08</th>\n",
       "      <td>17167.10</td>\n",
       "      <td>17067.40</td>\n",
       "      <td>17243.71</td>\n",
       "      <td>17016.09</td>\n",
       "      <td>0.005842</td>\n",
       "      <td>True</td>\n",
       "    </tr>\n",
       "    <tr>\n",
       "      <th>2015-01-09</th>\n",
       "      <td>17197.73</td>\n",
       "      <td>17318.74</td>\n",
       "      <td>17342.65</td>\n",
       "      <td>17129.53</td>\n",
       "      <td>-0.006987</td>\n",
       "      <td>False</td>\n",
       "    </tr>\n",
       "  </tbody>\n",
       "</table>\n",
       "</div>"
      ],
      "text/plain": [
       "               close      open      high       low  intraday return  \\\n",
       "datetime                                                              \n",
       "2015-01-05  17408.71  17325.68  17540.92  17219.22         0.004792   \n",
       "2015-01-06  16883.19  17101.58  17111.36  16881.73        -0.012770   \n",
       "2015-01-07  16885.33  16808.26  16974.61  16808.26         0.004585   \n",
       "2015-01-08  17167.10  17067.40  17243.71  17016.09         0.005842   \n",
       "2015-01-09  17197.73  17318.74  17342.65  17129.53        -0.006987   \n",
       "\n",
       "           is intraday return positive  \n",
       "datetime                                \n",
       "2015-01-05                        True  \n",
       "2015-01-06                       False  \n",
       "2015-01-07                        True  \n",
       "2015-01-08                        True  \n",
       "2015-01-09                       False  "
      ]
     },
     "execution_count": 14,
     "metadata": {},
     "output_type": "execute_result"
    }
   ],
   "source": [
    "df_test = df.copy()\n",
    "df_test[\"intraday return\"] = df_test[\"close\"] / df_test[\"open\"] - 1 # intraday return = 日中収益率\n",
    "df_test[\"is intraday return positive\"] = df_test[\"intraday return\"] > 0 \n",
    "df_test.head()"
   ]
  },
  {
   "cell_type": "code",
   "execution_count": 15,
   "metadata": {},
   "outputs": [
    {
     "data": {
      "text/html": [
       "<div>\n",
       "<table border=\"1\" class=\"dataframe\">\n",
       "  <thead>\n",
       "    <tr style=\"text-align: right;\">\n",
       "      <th></th>\n",
       "      <th>close</th>\n",
       "      <th>open</th>\n",
       "      <th>high</th>\n",
       "      <th>low</th>\n",
       "      <th>intraday return</th>\n",
       "      <th>is intraday return positive</th>\n",
       "      <th>overnight return</th>\n",
       "    </tr>\n",
       "    <tr>\n",
       "      <th>datetime</th>\n",
       "      <th></th>\n",
       "      <th></th>\n",
       "      <th></th>\n",
       "      <th></th>\n",
       "      <th></th>\n",
       "      <th></th>\n",
       "      <th></th>\n",
       "    </tr>\n",
       "  </thead>\n",
       "  <tbody>\n",
       "    <tr>\n",
       "      <th>2015-01-05</th>\n",
       "      <td>17408.71</td>\n",
       "      <td>17325.68</td>\n",
       "      <td>17540.92</td>\n",
       "      <td>17219.22</td>\n",
       "      <td>0.004792</td>\n",
       "      <td>True</td>\n",
       "      <td>-0.017642</td>\n",
       "    </tr>\n",
       "    <tr>\n",
       "      <th>2015-01-06</th>\n",
       "      <td>16883.19</td>\n",
       "      <td>17101.58</td>\n",
       "      <td>17111.36</td>\n",
       "      <td>16881.73</td>\n",
       "      <td>-0.012770</td>\n",
       "      <td>False</td>\n",
       "      <td>-0.004438</td>\n",
       "    </tr>\n",
       "    <tr>\n",
       "      <th>2015-01-07</th>\n",
       "      <td>16885.33</td>\n",
       "      <td>16808.26</td>\n",
       "      <td>16974.61</td>\n",
       "      <td>16808.26</td>\n",
       "      <td>0.004585</td>\n",
       "      <td>True</td>\n",
       "      <td>0.010783</td>\n",
       "    </tr>\n",
       "    <tr>\n",
       "      <th>2015-01-08</th>\n",
       "      <td>17167.10</td>\n",
       "      <td>17067.40</td>\n",
       "      <td>17243.71</td>\n",
       "      <td>17016.09</td>\n",
       "      <td>0.005842</td>\n",
       "      <td>True</td>\n",
       "      <td>0.008833</td>\n",
       "    </tr>\n",
       "    <tr>\n",
       "      <th>2015-01-09</th>\n",
       "      <td>17197.73</td>\n",
       "      <td>17318.74</td>\n",
       "      <td>17342.65</td>\n",
       "      <td>17129.53</td>\n",
       "      <td>-0.006987</td>\n",
       "      <td>False</td>\n",
       "      <td>-0.013191</td>\n",
       "    </tr>\n",
       "  </tbody>\n",
       "</table>\n",
       "</div>"
      ],
      "text/plain": [
       "               close      open      high       low  intraday return  \\\n",
       "datetime                                                              \n",
       "2015-01-05  17408.71  17325.68  17540.92  17219.22         0.004792   \n",
       "2015-01-06  16883.19  17101.58  17111.36  16881.73        -0.012770   \n",
       "2015-01-07  16885.33  16808.26  16974.61  16808.26         0.004585   \n",
       "2015-01-08  17167.10  17067.40  17243.71  17016.09         0.005842   \n",
       "2015-01-09  17197.73  17318.74  17342.65  17129.53        -0.006987   \n",
       "\n",
       "           is intraday return positive  overnight return  \n",
       "datetime                                                  \n",
       "2015-01-05                        True         -0.017642  \n",
       "2015-01-06                       False         -0.004438  \n",
       "2015-01-07                        True          0.010783  \n",
       "2015-01-08                        True          0.008833  \n",
       "2015-01-09                       False         -0.013191  "
      ]
     },
     "execution_count": 15,
     "metadata": {},
     "output_type": "execute_result"
    }
   ],
   "source": [
    "# オーバーナイトの収益を計算\n",
    "df_test[\"overnight return\"] = df_test[\"open\"].shift(-1) / df[\"close\"] - 1\n",
    "df_test.head()"
   ]
  },
  {
   "cell_type": "markdown",
   "metadata": {},
   "source": [
    "`2015-01-05`で、日中収益率は0.47％で正です。そこで終値で株を買うことにします。\n",
    "\n",
    "`overnight return` には終値から次の日の始値の変化率（＝オーバーナイトの収益率）が入っています。気をつけなくてはいけないのは、ここに入っている数値は将来の数字だと言うことです。\n",
    "\n",
    "例えば `2015-01-05` 時点で、`overnight return` である `-0.017642` は明日にならないとわからない数値です。\n",
    "\n",
    "ここで、`is intraday return positive` は正負、つまり、1もしくは0のどちらかですので、\n",
    "\n",
    "`is intraday return positive * overnight return`  を計算することで、`is intraday return positive`が正の時だけの数値を得ることが出来ます。\n"
   ]
  },
  {
   "cell_type": "code",
   "execution_count": 16,
   "metadata": {},
   "outputs": [
    {
     "data": {
      "text/html": [
       "<div>\n",
       "<table border=\"1\" class=\"dataframe\">\n",
       "  <thead>\n",
       "    <tr style=\"text-align: right;\">\n",
       "      <th></th>\n",
       "      <th>close</th>\n",
       "      <th>open</th>\n",
       "      <th>high</th>\n",
       "      <th>low</th>\n",
       "      <th>intraday return</th>\n",
       "      <th>is intraday return positive</th>\n",
       "      <th>overnight return</th>\n",
       "      <th>results</th>\n",
       "    </tr>\n",
       "    <tr>\n",
       "      <th>datetime</th>\n",
       "      <th></th>\n",
       "      <th></th>\n",
       "      <th></th>\n",
       "      <th></th>\n",
       "      <th></th>\n",
       "      <th></th>\n",
       "      <th></th>\n",
       "      <th></th>\n",
       "    </tr>\n",
       "  </thead>\n",
       "  <tbody>\n",
       "    <tr>\n",
       "      <th>2015-01-05</th>\n",
       "      <td>17408.71</td>\n",
       "      <td>17325.68</td>\n",
       "      <td>17540.92</td>\n",
       "      <td>17219.22</td>\n",
       "      <td>0.004792</td>\n",
       "      <td>True</td>\n",
       "      <td>-0.017642</td>\n",
       "      <td>-0.017642</td>\n",
       "    </tr>\n",
       "    <tr>\n",
       "      <th>2015-01-06</th>\n",
       "      <td>16883.19</td>\n",
       "      <td>17101.58</td>\n",
       "      <td>17111.36</td>\n",
       "      <td>16881.73</td>\n",
       "      <td>-0.012770</td>\n",
       "      <td>False</td>\n",
       "      <td>-0.004438</td>\n",
       "      <td>-0.000000</td>\n",
       "    </tr>\n",
       "    <tr>\n",
       "      <th>2015-01-07</th>\n",
       "      <td>16885.33</td>\n",
       "      <td>16808.26</td>\n",
       "      <td>16974.61</td>\n",
       "      <td>16808.26</td>\n",
       "      <td>0.004585</td>\n",
       "      <td>True</td>\n",
       "      <td>0.010783</td>\n",
       "      <td>0.010783</td>\n",
       "    </tr>\n",
       "    <tr>\n",
       "      <th>2015-01-08</th>\n",
       "      <td>17167.10</td>\n",
       "      <td>17067.40</td>\n",
       "      <td>17243.71</td>\n",
       "      <td>17016.09</td>\n",
       "      <td>0.005842</td>\n",
       "      <td>True</td>\n",
       "      <td>0.008833</td>\n",
       "      <td>0.008833</td>\n",
       "    </tr>\n",
       "    <tr>\n",
       "      <th>2015-01-09</th>\n",
       "      <td>17197.73</td>\n",
       "      <td>17318.74</td>\n",
       "      <td>17342.65</td>\n",
       "      <td>17129.53</td>\n",
       "      <td>-0.006987</td>\n",
       "      <td>False</td>\n",
       "      <td>-0.013191</td>\n",
       "      <td>-0.000000</td>\n",
       "    </tr>\n",
       "    <tr>\n",
       "      <th>2015-01-13</th>\n",
       "      <td>17087.71</td>\n",
       "      <td>16970.88</td>\n",
       "      <td>17087.71</td>\n",
       "      <td>16828.27</td>\n",
       "      <td>0.006884</td>\n",
       "      <td>True</td>\n",
       "      <td>-0.007367</td>\n",
       "      <td>-0.007367</td>\n",
       "    </tr>\n",
       "    <tr>\n",
       "      <th>2015-01-14</th>\n",
       "      <td>16795.96</td>\n",
       "      <td>16961.82</td>\n",
       "      <td>17036.72</td>\n",
       "      <td>16770.56</td>\n",
       "      <td>-0.009778</td>\n",
       "      <td>False</td>\n",
       "      <td>0.004584</td>\n",
       "      <td>0.000000</td>\n",
       "    </tr>\n",
       "    <tr>\n",
       "      <th>2015-01-15</th>\n",
       "      <td>17108.70</td>\n",
       "      <td>16872.95</td>\n",
       "      <td>17141.98</td>\n",
       "      <td>16856.22</td>\n",
       "      <td>0.013972</td>\n",
       "      <td>True</td>\n",
       "      <td>-0.017286</td>\n",
       "      <td>-0.017286</td>\n",
       "    </tr>\n",
       "    <tr>\n",
       "      <th>2015-01-16</th>\n",
       "      <td>16864.16</td>\n",
       "      <td>16812.96</td>\n",
       "      <td>16864.34</td>\n",
       "      <td>16592.57</td>\n",
       "      <td>0.003045</td>\n",
       "      <td>True</td>\n",
       "      <td>0.008101</td>\n",
       "      <td>0.008101</td>\n",
       "    </tr>\n",
       "    <tr>\n",
       "      <th>2015-01-19</th>\n",
       "      <td>17014.29</td>\n",
       "      <td>17000.78</td>\n",
       "      <td>17039.80</td>\n",
       "      <td>16911.58</td>\n",
       "      <td>0.000795</td>\n",
       "      <td>True</td>\n",
       "      <td>0.003371</td>\n",
       "      <td>0.003371</td>\n",
       "    </tr>\n",
       "  </tbody>\n",
       "</table>\n",
       "</div>"
      ],
      "text/plain": [
       "               close      open      high       low  intraday return  \\\n",
       "datetime                                                              \n",
       "2015-01-05  17408.71  17325.68  17540.92  17219.22         0.004792   \n",
       "2015-01-06  16883.19  17101.58  17111.36  16881.73        -0.012770   \n",
       "2015-01-07  16885.33  16808.26  16974.61  16808.26         0.004585   \n",
       "2015-01-08  17167.10  17067.40  17243.71  17016.09         0.005842   \n",
       "2015-01-09  17197.73  17318.74  17342.65  17129.53        -0.006987   \n",
       "2015-01-13  17087.71  16970.88  17087.71  16828.27         0.006884   \n",
       "2015-01-14  16795.96  16961.82  17036.72  16770.56        -0.009778   \n",
       "2015-01-15  17108.70  16872.95  17141.98  16856.22         0.013972   \n",
       "2015-01-16  16864.16  16812.96  16864.34  16592.57         0.003045   \n",
       "2015-01-19  17014.29  17000.78  17039.80  16911.58         0.000795   \n",
       "\n",
       "           is intraday return positive  overnight return   results  \n",
       "datetime                                                            \n",
       "2015-01-05                        True         -0.017642 -0.017642  \n",
       "2015-01-06                       False         -0.004438 -0.000000  \n",
       "2015-01-07                        True          0.010783  0.010783  \n",
       "2015-01-08                        True          0.008833  0.008833  \n",
       "2015-01-09                       False         -0.013191 -0.000000  \n",
       "2015-01-13                        True         -0.007367 -0.007367  \n",
       "2015-01-14                       False          0.004584  0.000000  \n",
       "2015-01-15                        True         -0.017286 -0.017286  \n",
       "2015-01-16                        True          0.008101  0.008101  \n",
       "2015-01-19                        True          0.003371  0.003371  "
      ]
     },
     "execution_count": 16,
     "metadata": {},
     "output_type": "execute_result"
    }
   ],
   "source": [
    "df_test[\"results\"] = df_test[\"is intraday return positive\"] * df_test[\"overnight return\"]\n",
    "df_test.head(10)"
   ]
  },
  {
   "cell_type": "markdown",
   "metadata": {},
   "source": [
    "### 描画\n",
    "\n",
    "結果は視覚的に見たほうが楽しいですよね。\n",
    "\n",
    "上記で行った結果を描画してみましょう。\n",
    "\n"
   ]
  },
  {
   "cell_type": "code",
   "execution_count": 17,
   "metadata": {},
   "outputs": [
    {
     "data": {
      "text/plain": [
       "<matplotlib.axes._subplots.AxesSubplot at 0x7fc3002e77b8>"
      ]
     },
     "execution_count": 17,
     "metadata": {},
     "output_type": "execute_result"
    }
   ],
   "source": [
    "# resultsをプロット\n",
    "df_test[\"results\"].plot()"
   ]
  },
  {
   "cell_type": "code",
   "execution_count": 18,
   "metadata": {},
   "outputs": [
    {
     "data": {
      "text/plain": [
       "<matplotlib.axes._subplots.AxesSubplot at 0x7fc3002e77b8>"
      ]
     },
     "execution_count": 18,
     "metadata": {},
     "output_type": "execute_result"
    }
   ],
   "source": [
    "# 毎日の結果を足し合わせていってプロット\n",
    "df_test[\"results\"].cumsum().plot()"
   ]
  },
  {
   "cell_type": "code",
   "execution_count": 19,
   "metadata": {},
   "outputs": [
    {
     "data": {
      "text/plain": [
       "<matplotlib.axes._subplots.AxesSubplot at 0x7fc3002e77b8>"
      ]
     },
     "execution_count": 19,
     "metadata": {},
     "output_type": "execute_result"
    }
   ],
   "source": [
    "# 色々なオプションを入れる。\n",
    "df_test[\"results\"].cumsum().plot(grid=True, # 罫線\n",
    "                                 figsize = (20,10), # (横, 縦)\n",
    "                                 title=\"overnight returns\"\n",
    "                                )"
   ]
  },
  {
   "cell_type": "markdown",
   "metadata": {},
   "source": [
    "### 練習問題1\n",
    "\n",
    "1. [https://finance.yahoo.com/quote/SPY/history?p=SPY](https://finance.yahoo.com/quote/SPY/history?p=SPY) からデータダウンロードする。\n",
    "2. ファイルをDataFrame化する。\n",
    "3. オーバーナイトの収益をプロットする\n",
    "4. 日中のHighとLowの差が2％以上だったら、Closeで買って、次の日のCloseで売る。その収益をプロットする。\n"
   ]
  },
  {
   "cell_type": "markdown",
   "metadata": {},
   "source": [
    "## テクニカル分析\n",
    "\n",
    "世の中にはたくさんのテクニカル分析が有ります。投資家に人気がある分析指標を使って simulation をしてみましょう。\n",
    "\n",
    "\n",
    "1. トレンド系\n",
    "    1. 移動平均\n",
    "    1. ボリンジャーバンド\n",
    "    1. モメンタム\n",
    "    1. HLバンド\n",
    "1. オシレーター系\n",
    "    1. RSI\n",
    "    1. MACD\n",
    "    1. 株価カイリ率   \n",
    "        \n"
   ]
  },
  {
   "cell_type": "markdown",
   "metadata": {},
   "source": [
    "### 移動平均\n",
    "\n",
    "移動平均とは、時系列データにおいて、ある一定区間ごとの平均値を区間をずらしながら求めたものです。毎日のデータを見るよりも、株価の方向（流れ、大局、）をより見やすくする指標と言えます。\n",
    "\n",
    "DataFrameのメソッドである `rolling` を使うと簡単に求められます。\n",
    "\n",
    "+ [pandas.DataFrame.rolling](https://pandas.pydata.org/pandas-docs/stable/generated/pandas.DataFrame.rolling.html)\n",
    "+ rolling(window, min_periods=None, center=False, win_type=None, on=None, axis=0, closed=None)\n",
    "+ `window`: 行数を指定。これが区間になる。\n",
    "+ 返り値は `rolling` オブジェクト。"
   ]
  },
  {
   "cell_type": "code",
   "execution_count": 20,
   "metadata": {},
   "outputs": [
    {
     "data": {
      "text/plain": [
       "Rolling [window=5,center=False,axis=0]"
      ]
     },
     "execution_count": 20,
     "metadata": {},
     "output_type": "execute_result"
    }
   ],
   "source": [
    "df_test = df.copy()\n",
    "\n",
    "# 5日移動平均\n",
    "n = 5\n",
    "df_test.rolling(n)"
   ]
  },
  {
   "cell_type": "code",
   "execution_count": 21,
   "metadata": {},
   "outputs": [
    {
     "data": {
      "text/html": [
       "<div>\n",
       "<table border=\"1\" class=\"dataframe\">\n",
       "  <thead>\n",
       "    <tr style=\"text-align: right;\">\n",
       "      <th></th>\n",
       "      <th>close</th>\n",
       "      <th>open</th>\n",
       "      <th>high</th>\n",
       "      <th>low</th>\n",
       "    </tr>\n",
       "    <tr>\n",
       "      <th>datetime</th>\n",
       "      <th></th>\n",
       "      <th></th>\n",
       "      <th></th>\n",
       "      <th></th>\n",
       "    </tr>\n",
       "  </thead>\n",
       "  <tbody>\n",
       "    <tr>\n",
       "      <th>2015-01-05</th>\n",
       "      <td>NaN</td>\n",
       "      <td>NaN</td>\n",
       "      <td>NaN</td>\n",
       "      <td>NaN</td>\n",
       "    </tr>\n",
       "    <tr>\n",
       "      <th>2015-01-06</th>\n",
       "      <td>NaN</td>\n",
       "      <td>NaN</td>\n",
       "      <td>NaN</td>\n",
       "      <td>NaN</td>\n",
       "    </tr>\n",
       "    <tr>\n",
       "      <th>2015-01-07</th>\n",
       "      <td>NaN</td>\n",
       "      <td>NaN</td>\n",
       "      <td>NaN</td>\n",
       "      <td>NaN</td>\n",
       "    </tr>\n",
       "    <tr>\n",
       "      <th>2015-01-08</th>\n",
       "      <td>NaN</td>\n",
       "      <td>NaN</td>\n",
       "      <td>NaN</td>\n",
       "      <td>NaN</td>\n",
       "    </tr>\n",
       "    <tr>\n",
       "      <th>2015-01-09</th>\n",
       "      <td>17108.412</td>\n",
       "      <td>17124.332</td>\n",
       "      <td>17242.650</td>\n",
       "      <td>17010.966</td>\n",
       "    </tr>\n",
       "    <tr>\n",
       "      <th>2015-01-13</th>\n",
       "      <td>17044.212</td>\n",
       "      <td>17053.372</td>\n",
       "      <td>17152.008</td>\n",
       "      <td>16932.776</td>\n",
       "    </tr>\n",
       "    <tr>\n",
       "      <th>2015-01-14</th>\n",
       "      <td>17026.766</td>\n",
       "      <td>17025.420</td>\n",
       "      <td>17137.080</td>\n",
       "      <td>16910.542</td>\n",
       "    </tr>\n",
       "    <tr>\n",
       "      <th>2015-01-15</th>\n",
       "      <td>17071.440</td>\n",
       "      <td>17038.358</td>\n",
       "      <td>17170.554</td>\n",
       "      <td>16920.134</td>\n",
       "    </tr>\n",
       "    <tr>\n",
       "      <th>2015-01-16</th>\n",
       "      <td>17010.852</td>\n",
       "      <td>16987.470</td>\n",
       "      <td>17094.680</td>\n",
       "      <td>16835.430</td>\n",
       "    </tr>\n",
       "    <tr>\n",
       "      <th>2015-01-19</th>\n",
       "      <td>16974.164</td>\n",
       "      <td>16923.878</td>\n",
       "      <td>17034.110</td>\n",
       "      <td>16791.840</td>\n",
       "    </tr>\n",
       "  </tbody>\n",
       "</table>\n",
       "</div>"
      ],
      "text/plain": [
       "                close       open       high        low\n",
       "datetime                                              \n",
       "2015-01-05        NaN        NaN        NaN        NaN\n",
       "2015-01-06        NaN        NaN        NaN        NaN\n",
       "2015-01-07        NaN        NaN        NaN        NaN\n",
       "2015-01-08        NaN        NaN        NaN        NaN\n",
       "2015-01-09  17108.412  17124.332  17242.650  17010.966\n",
       "2015-01-13  17044.212  17053.372  17152.008  16932.776\n",
       "2015-01-14  17026.766  17025.420  17137.080  16910.542\n",
       "2015-01-15  17071.440  17038.358  17170.554  16920.134\n",
       "2015-01-16  17010.852  16987.470  17094.680  16835.430\n",
       "2015-01-19  16974.164  16923.878  17034.110  16791.840"
      ]
     },
     "execution_count": 21,
     "metadata": {},
     "output_type": "execute_result"
    }
   ],
   "source": [
    "# この rolling オブジェクトが持つメソッドを使って、ほしい計算結果を得る。\n",
    "df_test.rolling(n).mean().head(10)"
   ]
  },
  {
   "cell_type": "markdown",
   "metadata": {},
   "source": [
    "プロットして観察します。\n",
    "\n",
    "株価と移動平均を重ねてプロットすると、なにか気がつくかもしれません。\n",
    "\n",
    "すこし複雑な図を描く時は `matplotlib.pyplot` を使うと便利です。詳しくは、[PythonユーザのためのJupyter[実践]入門](https://www.amazon.co.jp/dp/4774192236)を買って勉強してください。"
   ]
  },
  {
   "cell_type": "code",
   "execution_count": 22,
   "metadata": {},
   "outputs": [],
   "source": [
    "import matplotlib.pyplot as plt \n",
    "\n",
    "fig = plt.figure(figsize=(20,10))\n",
    "ax1 = fig.add_subplot(111)\n",
    "\n",
    "ax1.plot(df_test[\"close\"])\n",
    "ax1.plot(df_test[\"close\"].rolling(window=20).mean(), c='r')\n",
    "ax1.grid()\n"
   ]
  },
  {
   "cell_type": "markdown",
   "metadata": {},
   "source": [
    "さて、この描画から、どんなことが言えそうでしょうか？観察して考えてみましょう。\n",
    "\n",
    "1. 過去n日と比べて今日の終値が大きく外れていれば、「平均の方にもどるんじゃない？」と予想して逆張り\n",
    "1. 終値が移動平均より上にある間は買い持ちして、下にある間は売り持ちする。（順張り）\n",
    "\n",
    "などが考えられます。1をやってみましょう。\n",
    "\n",
    "まずは、移動平均と終値がどのくらい違いがあるのか見てみましょう。\n"
   ]
  },
  {
   "cell_type": "code",
   "execution_count": 23,
   "metadata": {
    "scrolled": true
   },
   "outputs": [
    {
     "data": {
      "text/html": [
       "<div>\n",
       "<table border=\"1\" class=\"dataframe\">\n",
       "  <thead>\n",
       "    <tr style=\"text-align: right;\">\n",
       "      <th></th>\n",
       "      <th>close</th>\n",
       "      <th>ma</th>\n",
       "      <th>diff</th>\n",
       "    </tr>\n",
       "    <tr>\n",
       "      <th>datetime</th>\n",
       "      <th></th>\n",
       "      <th></th>\n",
       "      <th></th>\n",
       "    </tr>\n",
       "  </thead>\n",
       "  <tbody>\n",
       "    <tr>\n",
       "      <th>2015-01-05</th>\n",
       "      <td>17408.71</td>\n",
       "      <td>NaN</td>\n",
       "      <td>NaN</td>\n",
       "    </tr>\n",
       "    <tr>\n",
       "      <th>2015-01-06</th>\n",
       "      <td>16883.19</td>\n",
       "      <td>NaN</td>\n",
       "      <td>NaN</td>\n",
       "    </tr>\n",
       "    <tr>\n",
       "      <th>2015-01-07</th>\n",
       "      <td>16885.33</td>\n",
       "      <td>NaN</td>\n",
       "      <td>NaN</td>\n",
       "    </tr>\n",
       "    <tr>\n",
       "      <th>2015-01-08</th>\n",
       "      <td>17167.10</td>\n",
       "      <td>NaN</td>\n",
       "      <td>NaN</td>\n",
       "    </tr>\n",
       "    <tr>\n",
       "      <th>2015-01-09</th>\n",
       "      <td>17197.73</td>\n",
       "      <td>NaN</td>\n",
       "      <td>NaN</td>\n",
       "    </tr>\n",
       "    <tr>\n",
       "      <th>2015-01-13</th>\n",
       "      <td>17087.71</td>\n",
       "      <td>NaN</td>\n",
       "      <td>NaN</td>\n",
       "    </tr>\n",
       "    <tr>\n",
       "      <th>2015-01-14</th>\n",
       "      <td>16795.96</td>\n",
       "      <td>NaN</td>\n",
       "      <td>NaN</td>\n",
       "    </tr>\n",
       "    <tr>\n",
       "      <th>2015-01-15</th>\n",
       "      <td>17108.70</td>\n",
       "      <td>NaN</td>\n",
       "      <td>NaN</td>\n",
       "    </tr>\n",
       "    <tr>\n",
       "      <th>2015-01-16</th>\n",
       "      <td>16864.16</td>\n",
       "      <td>NaN</td>\n",
       "      <td>NaN</td>\n",
       "    </tr>\n",
       "    <tr>\n",
       "      <th>2015-01-19</th>\n",
       "      <td>17014.29</td>\n",
       "      <td>NaN</td>\n",
       "      <td>NaN</td>\n",
       "    </tr>\n",
       "    <tr>\n",
       "      <th>2015-01-20</th>\n",
       "      <td>17366.30</td>\n",
       "      <td>NaN</td>\n",
       "      <td>NaN</td>\n",
       "    </tr>\n",
       "    <tr>\n",
       "      <th>2015-01-21</th>\n",
       "      <td>17280.48</td>\n",
       "      <td>NaN</td>\n",
       "      <td>NaN</td>\n",
       "    </tr>\n",
       "    <tr>\n",
       "      <th>2015-01-22</th>\n",
       "      <td>17329.02</td>\n",
       "      <td>NaN</td>\n",
       "      <td>NaN</td>\n",
       "    </tr>\n",
       "    <tr>\n",
       "      <th>2015-01-23</th>\n",
       "      <td>17511.75</td>\n",
       "      <td>NaN</td>\n",
       "      <td>NaN</td>\n",
       "    </tr>\n",
       "    <tr>\n",
       "      <th>2015-01-26</th>\n",
       "      <td>17468.52</td>\n",
       "      <td>NaN</td>\n",
       "      <td>NaN</td>\n",
       "    </tr>\n",
       "    <tr>\n",
       "      <th>2015-01-27</th>\n",
       "      <td>17768.30</td>\n",
       "      <td>NaN</td>\n",
       "      <td>NaN</td>\n",
       "    </tr>\n",
       "    <tr>\n",
       "      <th>2015-01-28</th>\n",
       "      <td>17795.73</td>\n",
       "      <td>NaN</td>\n",
       "      <td>NaN</td>\n",
       "    </tr>\n",
       "    <tr>\n",
       "      <th>2015-01-29</th>\n",
       "      <td>17606.22</td>\n",
       "      <td>NaN</td>\n",
       "      <td>NaN</td>\n",
       "    </tr>\n",
       "    <tr>\n",
       "      <th>2015-01-30</th>\n",
       "      <td>17674.39</td>\n",
       "      <td>NaN</td>\n",
       "      <td>NaN</td>\n",
       "    </tr>\n",
       "    <tr>\n",
       "      <th>2015-02-02</th>\n",
       "      <td>17558.04</td>\n",
       "      <td>17288.5815</td>\n",
       "      <td>0.015586</td>\n",
       "    </tr>\n",
       "    <tr>\n",
       "      <th>2015-02-03</th>\n",
       "      <td>17335.85</td>\n",
       "      <td>17284.9385</td>\n",
       "      <td>0.002945</td>\n",
       "    </tr>\n",
       "    <tr>\n",
       "      <th>2015-02-04</th>\n",
       "      <td>17678.74</td>\n",
       "      <td>17324.7160</td>\n",
       "      <td>0.020435</td>\n",
       "    </tr>\n",
       "    <tr>\n",
       "      <th>2015-02-05</th>\n",
       "      <td>17504.62</td>\n",
       "      <td>17355.6805</td>\n",
       "      <td>0.008582</td>\n",
       "    </tr>\n",
       "    <tr>\n",
       "      <th>2015-02-06</th>\n",
       "      <td>17648.50</td>\n",
       "      <td>17379.7505</td>\n",
       "      <td>0.015463</td>\n",
       "    </tr>\n",
       "    <tr>\n",
       "      <th>2015-02-09</th>\n",
       "      <td>17711.93</td>\n",
       "      <td>17405.4605</td>\n",
       "      <td>0.017608</td>\n",
       "    </tr>\n",
       "    <tr>\n",
       "      <th>2015-02-10</th>\n",
       "      <td>17652.68</td>\n",
       "      <td>17433.7090</td>\n",
       "      <td>0.012560</td>\n",
       "    </tr>\n",
       "    <tr>\n",
       "      <th>2015-02-12</th>\n",
       "      <td>17979.72</td>\n",
       "      <td>17492.8970</td>\n",
       "      <td>0.027830</td>\n",
       "    </tr>\n",
       "    <tr>\n",
       "      <th>2015-02-13</th>\n",
       "      <td>17913.36</td>\n",
       "      <td>17533.1300</td>\n",
       "      <td>0.021686</td>\n",
       "    </tr>\n",
       "    <tr>\n",
       "      <th>2015-02-16</th>\n",
       "      <td>18004.77</td>\n",
       "      <td>17590.1605</td>\n",
       "      <td>0.023571</td>\n",
       "    </tr>\n",
       "    <tr>\n",
       "      <th>2015-02-17</th>\n",
       "      <td>17987.09</td>\n",
       "      <td>17638.8005</td>\n",
       "      <td>0.019746</td>\n",
       "    </tr>\n",
       "  </tbody>\n",
       "</table>\n",
       "</div>"
      ],
      "text/plain": [
       "               close          ma      diff\n",
       "datetime                                  \n",
       "2015-01-05  17408.71         NaN       NaN\n",
       "2015-01-06  16883.19         NaN       NaN\n",
       "2015-01-07  16885.33         NaN       NaN\n",
       "2015-01-08  17167.10         NaN       NaN\n",
       "2015-01-09  17197.73         NaN       NaN\n",
       "2015-01-13  17087.71         NaN       NaN\n",
       "2015-01-14  16795.96         NaN       NaN\n",
       "2015-01-15  17108.70         NaN       NaN\n",
       "2015-01-16  16864.16         NaN       NaN\n",
       "2015-01-19  17014.29         NaN       NaN\n",
       "2015-01-20  17366.30         NaN       NaN\n",
       "2015-01-21  17280.48         NaN       NaN\n",
       "2015-01-22  17329.02         NaN       NaN\n",
       "2015-01-23  17511.75         NaN       NaN\n",
       "2015-01-26  17468.52         NaN       NaN\n",
       "2015-01-27  17768.30         NaN       NaN\n",
       "2015-01-28  17795.73         NaN       NaN\n",
       "2015-01-29  17606.22         NaN       NaN\n",
       "2015-01-30  17674.39         NaN       NaN\n",
       "2015-02-02  17558.04  17288.5815  0.015586\n",
       "2015-02-03  17335.85  17284.9385  0.002945\n",
       "2015-02-04  17678.74  17324.7160  0.020435\n",
       "2015-02-05  17504.62  17355.6805  0.008582\n",
       "2015-02-06  17648.50  17379.7505  0.015463\n",
       "2015-02-09  17711.93  17405.4605  0.017608\n",
       "2015-02-10  17652.68  17433.7090  0.012560\n",
       "2015-02-12  17979.72  17492.8970  0.027830\n",
       "2015-02-13  17913.36  17533.1300  0.021686\n",
       "2015-02-16  18004.77  17590.1605  0.023571\n",
       "2015-02-17  17987.09  17638.8005  0.019746"
      ]
     },
     "execution_count": 23,
     "metadata": {},
     "output_type": "execute_result"
    }
   ],
   "source": [
    "df_test = df.copy()\n",
    "\n",
    "n = 20\n",
    "\n",
    "# ma : Moving Average の略。移動平均を表す時によく使われる。\n",
    "df_test[\"ma\"] = df_test[\"close\"].rolling(window=n).mean() \n",
    "# close と ma しか使わないのでそれだけのDataFrameにする。\n",
    "df_test = df_test[[\"close\", \"ma\"]]\n",
    "\n",
    "df_test[\"diff\"] = df_test[\"close\"] / df_test[\"ma\"] - 1\n",
    "df_test.head(30)\n"
   ]
  },
  {
   "cell_type": "markdown",
   "metadata": {},
   "source": [
    "DataFrameのデータを簡単な統計値で確認したい時 `describe()` が便利です。\n",
    "\n",
    "columns 毎に、個数、平均値、偏差、最大値、最小値、パーセンタイルを出してくれます。"
   ]
  },
  {
   "cell_type": "code",
   "execution_count": 24,
   "metadata": {},
   "outputs": [
    {
     "data": {
      "text/html": [
       "<div>\n",
       "<table border=\"1\" class=\"dataframe\">\n",
       "  <thead>\n",
       "    <tr style=\"text-align: right;\">\n",
       "      <th></th>\n",
       "      <th>close</th>\n",
       "      <th>ma</th>\n",
       "      <th>diff</th>\n",
       "    </tr>\n",
       "  </thead>\n",
       "  <tbody>\n",
       "    <tr>\n",
       "      <th>count</th>\n",
       "      <td>965.000000</td>\n",
       "      <td>946.000000</td>\n",
       "      <td>946.000000</td>\n",
       "    </tr>\n",
       "    <tr>\n",
       "      <th>mean</th>\n",
       "      <td>19643.427399</td>\n",
       "      <td>19644.754560</td>\n",
       "      <td>0.002522</td>\n",
       "    </tr>\n",
       "    <tr>\n",
       "      <th>std</th>\n",
       "      <td>2212.332882</td>\n",
       "      <td>2170.108551</td>\n",
       "      <td>0.027461</td>\n",
       "    </tr>\n",
       "    <tr>\n",
       "      <th>min</th>\n",
       "      <td>14952.020000</td>\n",
       "      <td>15628.831000</td>\n",
       "      <td>-0.120078</td>\n",
       "    </tr>\n",
       "    <tr>\n",
       "      <th>25%</th>\n",
       "      <td>17768.300000</td>\n",
       "      <td>17933.825500</td>\n",
       "      <td>-0.011000</td>\n",
       "    </tr>\n",
       "    <tr>\n",
       "      <th>50%</th>\n",
       "      <td>19620.910000</td>\n",
       "      <td>19605.356500</td>\n",
       "      <td>0.005244</td>\n",
       "    </tr>\n",
       "    <tr>\n",
       "      <th>75%</th>\n",
       "      <td>21676.510000</td>\n",
       "      <td>21699.081250</td>\n",
       "      <td>0.020858</td>\n",
       "    </tr>\n",
       "    <tr>\n",
       "      <th>max</th>\n",
       "      <td>24270.620000</td>\n",
       "      <td>23700.905000</td>\n",
       "      <td>0.065013</td>\n",
       "    </tr>\n",
       "  </tbody>\n",
       "</table>\n",
       "</div>"
      ],
      "text/plain": [
       "              close            ma        diff\n",
       "count    965.000000    946.000000  946.000000\n",
       "mean   19643.427399  19644.754560    0.002522\n",
       "std     2212.332882   2170.108551    0.027461\n",
       "min    14952.020000  15628.831000   -0.120078\n",
       "25%    17768.300000  17933.825500   -0.011000\n",
       "50%    19620.910000  19605.356500    0.005244\n",
       "75%    21676.510000  21699.081250    0.020858\n",
       "max    24270.620000  23700.905000    0.065013"
      ]
     },
     "execution_count": 24,
     "metadata": {},
     "output_type": "execute_result"
    }
   ],
   "source": [
    "df_test.describe()"
   ]
  },
  {
   "cell_type": "markdown",
   "metadata": {},
   "source": [
    "ここから察するに、`25%` タイルで `-1.1%` ずれているということなので、\n",
    "\n",
    "close価格が maより-1.1％以下にある場合、ロングポジションを持つことにしてみましょう。\n",
    "\n"
   ]
  },
  {
   "cell_type": "code",
   "execution_count": 25,
   "metadata": {},
   "outputs": [
    {
     "data": {
      "text/plain": [
       "<matplotlib.axes._subplots.AxesSubplot at 0x7fc2f8215f28>"
      ]
     },
     "execution_count": 25,
     "metadata": {},
     "output_type": "execute_result"
    }
   ],
   "source": [
    "df_test[\"diff < -0.011\"] = df_test[\"diff\"] < -0.011\n",
    "df_test[\"day return\"] = df_test[\"close\"].pct_change().shift(-1)\n",
    "df_test[\"long position result\"] = df_test[\"diff < -0.011\"] * df_test[\"day return\"]\n",
    "df_test[\"long position result\"].cumsum().plot()"
   ]
  },
  {
   "cell_type": "markdown",
   "metadata": {},
   "source": [
    "悪くないですね。\n",
    "\n",
    "**練習問題**\n",
    "\n",
    "では、`75%`タイルで `2.08％` ずれているので、\n",
    "\n",
    "close価格が maより2.08％以上にある場合、ショートポジションを持つことにしてみましょう。\n",
    "\n",
    "ショートポジション（売り持ち）なので、`df_test[\"day return\"]` の計算をどのようにすればよいか注意してください"
   ]
  },
  {
   "cell_type": "markdown",
   "metadata": {},
   "source": [
    "### ボリンジャーバンド\n",
    "\n",
    "ボリンジャーバンドも、個人投資家に大変人気のある指標です。ボリバンとも呼ばれています。ボリンジャーとか、ボリバンとか呼ばれています。\n",
    "\n",
    "移動平均だけでなく、その期間にどのくらい値がバラついたかも算出してバンドを形成し指標化したものです。\n",
    "\n",
    "この図でいえば、<font color=red>BB_中心線（21）</font>というのが21日移動平均線、<font color=blue>BB_1σ</font>という線が、過去21日の値動きのバラツキの1σ区間です。\n",
    "\n",
    "![](https://www.jibunbank.co.jp/products/foreign_deposit/chart/help/bollinger_band/img/img_01.png)\n",
    "[ボリンジャーバンド | チャートの見方 | 為替レート＆チャート | じぶん銀行](https://www.jibunbank.co.jp/products/foreign_deposit/chart/help/bollinger_band/)より\n",
    "\n",
    "そんな事言われてもわからんと思いますので、実際算出してみましょう。\n",
    "\n",
    "ボリバンを出すのに便利なライブラリ `talib` を使います。\n",
    "\n",
    "[mrjbq7/ta-lib: Python wrapper for TA-Lib (http://ta-lib.org/).](https://github.com/mrjbq7/ta-lib)\n"
   ]
  },
  {
   "cell_type": "code",
   "execution_count": 32,
   "metadata": {},
   "outputs": [
    {
     "ename": "TypeError",
     "evalue": "Argument 'real' has incorrect type (expected numpy.ndarray, got Series)",
     "output_type": "error",
     "traceback": [
      "\u001b[0;31m---------------------------------------------------------------------------\u001b[0m",
      "\u001b[0;31mTypeError\u001b[0m                                 Traceback (most recent call last)",
      "\u001b[0;32m<ipython-input-32-8c18dda9b608>\u001b[0m in \u001b[0;36m<module>\u001b[0;34m()\u001b[0m\n\u001b[1;32m      3\u001b[0m \u001b[0mdf_test\u001b[0m \u001b[0;34m=\u001b[0m \u001b[0mdf\u001b[0m\u001b[0;34m.\u001b[0m\u001b[0mcopy\u001b[0m\u001b[0;34m(\u001b[0m\u001b[0;34m)\u001b[0m\u001b[0;34m\u001b[0m\u001b[0m\n\u001b[1;32m      4\u001b[0m \u001b[0;34m\u001b[0m\u001b[0m\n\u001b[0;32m----> 5\u001b[0;31m \u001b[0mupper\u001b[0m\u001b[0;34m,\u001b[0m\u001b[0mmiddle\u001b[0m\u001b[0;34m,\u001b[0m\u001b[0mlower\u001b[0m\u001b[0;34m=\u001b[0m\u001b[0mta\u001b[0m\u001b[0;34m.\u001b[0m\u001b[0mBBANDS\u001b[0m\u001b[0;34m(\u001b[0m\u001b[0mdf_test\u001b[0m\u001b[0;34m[\u001b[0m\u001b[0;34m\"close\"\u001b[0m\u001b[0;34m]\u001b[0m\u001b[0;34m,\u001b[0m\u001b[0mtimeperiod\u001b[0m\u001b[0;34m=\u001b[0m\u001b[0;36m5\u001b[0m\u001b[0;34m)\u001b[0m\u001b[0;34m\u001b[0m\u001b[0m\n\u001b[0m\u001b[1;32m      6\u001b[0m \u001b[0mmiddle\u001b[0m\u001b[0;34m\u001b[0m\u001b[0m\n",
      "\u001b[0;31mTypeError\u001b[0m: Argument 'real' has incorrect type (expected numpy.ndarray, got Series)"
     ]
    }
   ],
   "source": [
    "import talib as ta\n",
    "\n",
    "df_test = df.copy()\n",
    "\n",
    "upper,middle,lower=ta.BBANDS(df_test[\"close\"],timeperiod=5)\n",
    "middle\n"
   ]
  },
  {
   "cell_type": "code",
   "execution_count": 26,
   "metadata": {
    "collapsed": true
   },
   "outputs": [],
   "source": [
    "%matplotlib inline\n",
    "import pandas as pd \n",
    "import matplotlib.pyplot as plt\n",
    "import numpy as np\n",
    "#import talib as ta\n",
    "\n",
    "# warning 非表示\n",
    "import warnings\n",
    "warnings.filterwarnings('ignore')\n",
    "\n",
    "# https://kabuoji3.com/stock/\n",
    "\n",
    "stock0 = \"/tmp/7201_2018.csv\"\n",
    "stock1 = \"/tmp/6758_2018.csv\"\n",
    "stock2 = \"/tmp/3436_2018.csv\"\n",
    "stock3 = \"/tmp/8306_2018.csv\"\n",
    "\n",
    "df_stock0 = pd.read_csv(stock0, skiprows=[0], encoding='shift-jis', index_col=\"日付\", parse_dates=True)\n",
    "df_stock1 = pd.read_csv(stock1, skiprows=[0], encoding='shift-jis', index_col=\"日付\", parse_dates=True)\n",
    "df_stock2 = pd.read_csv(stock2, skiprows=[0], encoding='shift-jis', index_col=\"日付\", parse_dates=True)\n",
    "df_stock3 = pd.read_csv(stock3, skiprows=[0], encoding='shift-jis', index_col=\"日付\", parse_dates=True)\n",
    "\n",
    "df_stock_list = [df_stock0, df_stock1, df_stock2, df_stock3,]\n",
    "stock_name_list = [\"NISSAN\", \"SONY\", \"SUMCO\", \"MUFG\",]\n",
    "\n",
    "all_data = pd.concat(df_stock_list, \n",
    "                    keys=stock_name_list,\n",
    "                    names=['Ticker', 'Date'])\n",
    "\n",
    "df_close = all_data[\"終値調整値\"].reset_index().pivot('Date', 'Ticker', '終値調整値')\n"
   ]
  },
  {
   "cell_type": "code",
   "execution_count": 3,
   "metadata": {},
   "outputs": [
    {
     "data": {
      "text/html": [
       "<div>\n",
       "<style scoped>\n",
       "    .dataframe tbody tr th:only-of-type {\n",
       "        vertical-align: middle;\n",
       "    }\n",
       "\n",
       "    .dataframe tbody tr th {\n",
       "        vertical-align: top;\n",
       "    }\n",
       "\n",
       "    .dataframe thead th {\n",
       "        text-align: right;\n",
       "    }\n",
       "</style>\n",
       "<table border=\"1\" class=\"dataframe\">\n",
       "  <thead>\n",
       "    <tr style=\"text-align: right;\">\n",
       "      <th>Ticker</th>\n",
       "      <th>MUFG</th>\n",
       "      <th>NISSAN</th>\n",
       "      <th>SONY</th>\n",
       "      <th>SUMCO</th>\n",
       "    </tr>\n",
       "    <tr>\n",
       "      <th>Date</th>\n",
       "      <th></th>\n",
       "      <th></th>\n",
       "      <th></th>\n",
       "      <th></th>\n",
       "    </tr>\n",
       "  </thead>\n",
       "  <tbody>\n",
       "    <tr>\n",
       "      <th>2018-01-04</th>\n",
       "      <td>847.1</td>\n",
       "      <td>1134.0</td>\n",
       "      <td>5279.0</td>\n",
       "      <td>2996.0</td>\n",
       "    </tr>\n",
       "    <tr>\n",
       "      <th>2018-01-05</th>\n",
       "      <td>866.8</td>\n",
       "      <td>1149.0</td>\n",
       "      <td>5464.0</td>\n",
       "      <td>2989.0</td>\n",
       "    </tr>\n",
       "    <tr>\n",
       "      <th>2018-01-09</th>\n",
       "      <td>863.4</td>\n",
       "      <td>1156.5</td>\n",
       "      <td>5612.0</td>\n",
       "      <td>3100.0</td>\n",
       "    </tr>\n",
       "    <tr>\n",
       "      <th>2018-01-10</th>\n",
       "      <td>876.8</td>\n",
       "      <td>1156.5</td>\n",
       "      <td>5591.0</td>\n",
       "      <td>3070.0</td>\n",
       "    </tr>\n",
       "    <tr>\n",
       "      <th>2018-01-11</th>\n",
       "      <td>881.9</td>\n",
       "      <td>1157.5</td>\n",
       "      <td>5584.0</td>\n",
       "      <td>2967.0</td>\n",
       "    </tr>\n",
       "  </tbody>\n",
       "</table>\n",
       "</div>"
      ],
      "text/plain": [
       "Ticker       MUFG  NISSAN    SONY   SUMCO\n",
       "Date                                     \n",
       "2018-01-04  847.1  1134.0  5279.0  2996.0\n",
       "2018-01-05  866.8  1149.0  5464.0  2989.0\n",
       "2018-01-09  863.4  1156.5  5612.0  3100.0\n",
       "2018-01-10  876.8  1156.5  5591.0  3070.0\n",
       "2018-01-11  881.9  1157.5  5584.0  2967.0"
      ]
     },
     "execution_count": 3,
     "metadata": {},
     "output_type": "execute_result"
    }
   ],
   "source": [
    "df_close.head()"
   ]
  },
  {
   "cell_type": "code",
   "execution_count": 7,
   "metadata": {},
   "outputs": [
    {
     "data": {
      "text/plain": [
       "<matplotlib.axes._subplots.AxesSubplot at 0x7f558ee5ba58>"
      ]
     },
     "execution_count": 7,
     "metadata": {},
     "output_type": "execute_result"
    },
    {
     "data": {
      "image/png": "[encoded data removed]",
      "text/plain": [
       "<Figure size 432x288 with 1 Axes>"
      ]
     },
     "metadata": {
      "needs_background": "light"
     },
     "output_type": "display_data"
    }
   ],
   "source": [
    "## 株価の動きをプロットしてみる。\n",
    "df_close[\"NISSAN\"].plot(grid=True, )\n"
   ]
  },
  {
   "cell_type": "code",
   "execution_count": 19,
   "metadata": {},
   "outputs": [
    {
     "data": {
      "text/plain": [
       "Date\n",
       "2018-01-04         NaN\n",
       "2018-01-05    0.013228\n",
       "2018-01-09    0.006527\n",
       "2018-01-10    0.000000\n",
       "2018-01-11    0.000865\n",
       "Name: NISSAN, dtype: float64"
      ]
     },
     "execution_count": 19,
     "metadata": {},
     "output_type": "execute_result"
    }
   ],
   "source": [
    "# 日次収益率\n",
    "df_close[\"NISSAN\"].pct_change().head()"
   ]
  },
  {
   "cell_type": "code",
   "execution_count": 20,
   "metadata": {},
   "outputs": [
    {
     "data": {
      "text/plain": [
       "<matplotlib.axes._subplots.AxesSubplot at 0x7f558ebce048>"
      ]
     },
     "execution_count": 20,
     "metadata": {},
     "output_type": "execute_result"
    },
    {
     "data": {
      "image/png": "[encoded data removed]",
      "text/plain": [
       "<Figure size 432x288 with 1 Axes>"
      ]
     },
     "metadata": {
      "needs_background": "light"
     },
     "output_type": "display_data"
    }
   ],
   "source": [
    "# 日次収益率をプロット\n",
    "df_close[\"NISSAN\"].pct_change().plot(grid=True, )\n"
   ]
  },
  {
   "cell_type": "code",
   "execution_count": 18,
   "metadata": {},
   "outputs": [
    {
     "data": {
      "text/html": [
       "<div>\n",
       "<style scoped>\n",
       "    .dataframe tbody tr th:only-of-type {\n",
       "        vertical-align: middle;\n",
       "    }\n",
       "\n",
       "    .dataframe tbody tr th {\n",
       "        vertical-align: top;\n",
       "    }\n",
       "\n",
       "    .dataframe thead th {\n",
       "        text-align: right;\n",
       "    }\n",
       "</style>\n",
       "<table border=\"1\" class=\"dataframe\">\n",
       "  <thead>\n",
       "    <tr style=\"text-align: right;\">\n",
       "      <th>Ticker</th>\n",
       "      <th>MUFG</th>\n",
       "      <th>NISSAN</th>\n",
       "      <th>SONY</th>\n",
       "      <th>SUMCO</th>\n",
       "    </tr>\n",
       "    <tr>\n",
       "      <th>Date</th>\n",
       "      <th></th>\n",
       "      <th></th>\n",
       "      <th></th>\n",
       "      <th></th>\n",
       "    </tr>\n",
       "  </thead>\n",
       "  <tbody>\n",
       "    <tr>\n",
       "      <th>2018-01-04</th>\n",
       "      <td>847.1</td>\n",
       "      <td>1134.0</td>\n",
       "      <td>5279.0</td>\n",
       "      <td>2996.0</td>\n",
       "    </tr>\n",
       "    <tr>\n",
       "      <th>2018-01-05</th>\n",
       "      <td>866.8</td>\n",
       "      <td>1149.0</td>\n",
       "      <td>5464.0</td>\n",
       "      <td>2989.0</td>\n",
       "    </tr>\n",
       "    <tr>\n",
       "      <th>2018-01-09</th>\n",
       "      <td>863.4</td>\n",
       "      <td>1156.5</td>\n",
       "      <td>5612.0</td>\n",
       "      <td>3100.0</td>\n",
       "    </tr>\n",
       "    <tr>\n",
       "      <th>2018-01-10</th>\n",
       "      <td>876.8</td>\n",
       "      <td>1156.5</td>\n",
       "      <td>5591.0</td>\n",
       "      <td>3070.0</td>\n",
       "    </tr>\n",
       "    <tr>\n",
       "      <th>2018-01-11</th>\n",
       "      <td>881.9</td>\n",
       "      <td>1157.5</td>\n",
       "      <td>5584.0</td>\n",
       "      <td>2967.0</td>\n",
       "    </tr>\n",
       "  </tbody>\n",
       "</table>\n",
       "</div>"
      ],
      "text/plain": [
       "Ticker       MUFG  NISSAN    SONY   SUMCO\n",
       "Date                                     \n",
       "2018-01-04  847.1  1134.0  5279.0  2996.0\n",
       "2018-01-05  866.8  1149.0  5464.0  2989.0\n",
       "2018-01-09  863.4  1156.5  5612.0  3100.0\n",
       "2018-01-10  876.8  1156.5  5591.0  3070.0\n",
       "2018-01-11  881.9  1157.5  5584.0  2967.0"
      ]
     },
     "execution_count": 18,
     "metadata": {},
     "output_type": "execute_result"
    }
   ],
   "source": [
    "## shift を使い慣れる\n",
    "df_close.head()"
   ]
  },
  {
   "cell_type": "code",
   "execution_count": 15,
   "metadata": {},
   "outputs": [
    {
     "data": {
      "text/html": [
       "<div>\n",
       "<style scoped>\n",
       "    .dataframe tbody tr th:only-of-type {\n",
       "        vertical-align: middle;\n",
       "    }\n",
       "\n",
       "    .dataframe tbody tr th {\n",
       "        vertical-align: top;\n",
       "    }\n",
       "\n",
       "    .dataframe thead th {\n",
       "        text-align: right;\n",
       "    }\n",
       "</style>\n",
       "<table border=\"1\" class=\"dataframe\">\n",
       "  <thead>\n",
       "    <tr style=\"text-align: right;\">\n",
       "      <th>Ticker</th>\n",
       "      <th>MUFG</th>\n",
       "      <th>NISSAN</th>\n",
       "      <th>SONY</th>\n",
       "      <th>SUMCO</th>\n",
       "    </tr>\n",
       "    <tr>\n",
       "      <th>Date</th>\n",
       "      <th></th>\n",
       "      <th></th>\n",
       "      <th></th>\n",
       "      <th></th>\n",
       "    </tr>\n",
       "  </thead>\n",
       "  <tbody>\n",
       "    <tr>\n",
       "      <th>2018-01-04</th>\n",
       "      <td>NaN</td>\n",
       "      <td>NaN</td>\n",
       "      <td>NaN</td>\n",
       "      <td>NaN</td>\n",
       "    </tr>\n",
       "    <tr>\n",
       "      <th>2018-01-05</th>\n",
       "      <td>847.1</td>\n",
       "      <td>1134.0</td>\n",
       "      <td>5279.0</td>\n",
       "      <td>2996.0</td>\n",
       "    </tr>\n",
       "    <tr>\n",
       "      <th>2018-01-09</th>\n",
       "      <td>866.8</td>\n",
       "      <td>1149.0</td>\n",
       "      <td>5464.0</td>\n",
       "      <td>2989.0</td>\n",
       "    </tr>\n",
       "    <tr>\n",
       "      <th>2018-01-10</th>\n",
       "      <td>863.4</td>\n",
       "      <td>1156.5</td>\n",
       "      <td>5612.0</td>\n",
       "      <td>3100.0</td>\n",
       "    </tr>\n",
       "    <tr>\n",
       "      <th>2018-01-11</th>\n",
       "      <td>876.8</td>\n",
       "      <td>1156.5</td>\n",
       "      <td>5591.0</td>\n",
       "      <td>3070.0</td>\n",
       "    </tr>\n",
       "  </tbody>\n",
       "</table>\n",
       "</div>"
      ],
      "text/plain": [
       "Ticker       MUFG  NISSAN    SONY   SUMCO\n",
       "Date                                     \n",
       "2018-01-04    NaN     NaN     NaN     NaN\n",
       "2018-01-05  847.1  1134.0  5279.0  2996.0\n",
       "2018-01-09  866.8  1149.0  5464.0  2989.0\n",
       "2018-01-10  863.4  1156.5  5612.0  3100.0\n",
       "2018-01-11  876.8  1156.5  5591.0  3070.0"
      ]
     },
     "execution_count": 15,
     "metadata": {},
     "output_type": "execute_result"
    }
   ],
   "source": [
    "df_close.shift(1).head()\n"
   ]
  },
  {
   "cell_type": "code",
   "execution_count": 78,
   "metadata": {},
   "outputs": [
    {
     "data": {
      "text/html": [
       "<div>\n",
       "<style scoped>\n",
       "    .dataframe tbody tr th:only-of-type {\n",
       "        vertical-align: middle;\n",
       "    }\n",
       "\n",
       "    .dataframe tbody tr th {\n",
       "        vertical-align: top;\n",
       "    }\n",
       "\n",
       "    .dataframe thead th {\n",
       "        text-align: right;\n",
       "    }\n",
       "</style>\n",
       "<table border=\"1\" class=\"dataframe\">\n",
       "  <thead>\n",
       "    <tr style=\"text-align: right;\">\n",
       "      <th>Ticker</th>\n",
       "      <th>MUFG</th>\n",
       "      <th>NISSAN</th>\n",
       "      <th>SONY</th>\n",
       "      <th>SUMCO</th>\n",
       "    </tr>\n",
       "    <tr>\n",
       "      <th>Date</th>\n",
       "      <th></th>\n",
       "      <th></th>\n",
       "      <th></th>\n",
       "      <th></th>\n",
       "    </tr>\n",
       "  </thead>\n",
       "  <tbody>\n",
       "    <tr>\n",
       "      <th>2018-01-04</th>\n",
       "      <td>866.8</td>\n",
       "      <td>1149.0</td>\n",
       "      <td>5464.0</td>\n",
       "      <td>2989.0</td>\n",
       "    </tr>\n",
       "    <tr>\n",
       "      <th>2018-01-05</th>\n",
       "      <td>863.4</td>\n",
       "      <td>1156.5</td>\n",
       "      <td>5612.0</td>\n",
       "      <td>3100.0</td>\n",
       "    </tr>\n",
       "    <tr>\n",
       "      <th>2018-01-09</th>\n",
       "      <td>876.8</td>\n",
       "      <td>1156.5</td>\n",
       "      <td>5591.0</td>\n",
       "      <td>3070.0</td>\n",
       "    </tr>\n",
       "    <tr>\n",
       "      <th>2018-01-10</th>\n",
       "      <td>881.9</td>\n",
       "      <td>1157.5</td>\n",
       "      <td>5584.0</td>\n",
       "      <td>2967.0</td>\n",
       "    </tr>\n",
       "    <tr>\n",
       "      <th>2018-01-11</th>\n",
       "      <td>873.1</td>\n",
       "      <td>1148.5</td>\n",
       "      <td>5525.0</td>\n",
       "      <td>2951.0</td>\n",
       "    </tr>\n",
       "  </tbody>\n",
       "</table>\n",
       "</div>"
      ],
      "text/plain": [
       "Ticker       MUFG  NISSAN    SONY   SUMCO\n",
       "Date                                     \n",
       "2018-01-04  866.8  1149.0  5464.0  2989.0\n",
       "2018-01-05  863.4  1156.5  5612.0  3100.0\n",
       "2018-01-09  876.8  1156.5  5591.0  3070.0\n",
       "2018-01-10  881.9  1157.5  5584.0  2967.0\n",
       "2018-01-11  873.1  1148.5  5525.0  2951.0"
      ]
     },
     "execution_count": 78,
     "metadata": {},
     "output_type": "execute_result"
    }
   ],
   "source": [
    "df_close.shift(-1).head()"
   ]
  },
  {
   "cell_type": "code",
   "execution_count": 79,
   "metadata": {},
   "outputs": [
    {
     "data": {
      "text/plain": [
       "<matplotlib.axes._subplots.AxesSubplot at 0x7f558e17dc88>"
      ]
     },
     "execution_count": 79,
     "metadata": {},
     "output_type": "execute_result"
    },
    {
     "data": {
      "image/png": "[encoded data removed]",
      "text/plain": [
       "<Figure size 432x288 with 1 Axes>"
      ]
     },
     "metadata": {
      "needs_background": "light"
     },
     "output_type": "display_data"
    }
   ],
   "source": [
    "# もう一度日次収益率をプロット\n",
    "df_close[\"NISSAN\"].pct_change().plot(grid=True, )"
   ]
  },
  {
   "cell_type": "code",
   "execution_count": 29,
   "metadata": {},
   "outputs": [
    {
     "data": {
      "text/html": [
       "<div>\n",
       "<style scoped>\n",
       "    .dataframe tbody tr th:only-of-type {\n",
       "        vertical-align: middle;\n",
       "    }\n",
       "\n",
       "    .dataframe tbody tr th {\n",
       "        vertical-align: top;\n",
       "    }\n",
       "\n",
       "    .dataframe thead th {\n",
       "        text-align: right;\n",
       "    }\n",
       "</style>\n",
       "<table border=\"1\" class=\"dataframe\">\n",
       "  <thead>\n",
       "    <tr style=\"text-align: right;\">\n",
       "      <th>Ticker</th>\n",
       "      <th>NISSAN</th>\n",
       "      <th>day return</th>\n",
       "      <th>buy flag</th>\n",
       "    </tr>\n",
       "    <tr>\n",
       "      <th>Date</th>\n",
       "      <th></th>\n",
       "      <th></th>\n",
       "      <th></th>\n",
       "    </tr>\n",
       "  </thead>\n",
       "  <tbody>\n",
       "    <tr>\n",
       "      <th>2018-01-04</th>\n",
       "      <td>1134.0</td>\n",
       "      <td>NaN</td>\n",
       "      <td>False</td>\n",
       "    </tr>\n",
       "    <tr>\n",
       "      <th>2018-01-05</th>\n",
       "      <td>1149.0</td>\n",
       "      <td>0.013228</td>\n",
       "      <td>False</td>\n",
       "    </tr>\n",
       "    <tr>\n",
       "      <th>2018-01-09</th>\n",
       "      <td>1156.5</td>\n",
       "      <td>0.006527</td>\n",
       "      <td>False</td>\n",
       "    </tr>\n",
       "    <tr>\n",
       "      <th>2018-01-10</th>\n",
       "      <td>1156.5</td>\n",
       "      <td>0.000000</td>\n",
       "      <td>False</td>\n",
       "    </tr>\n",
       "    <tr>\n",
       "      <th>2018-01-11</th>\n",
       "      <td>1157.5</td>\n",
       "      <td>0.000865</td>\n",
       "      <td>False</td>\n",
       "    </tr>\n",
       "  </tbody>\n",
       "</table>\n",
       "</div>"
      ],
      "text/plain": [
       "Ticker      NISSAN  day return  buy flag\n",
       "Date                                    \n",
       "2018-01-04  1134.0         NaN     False\n",
       "2018-01-05  1149.0    0.013228     False\n",
       "2018-01-09  1156.5    0.006527     False\n",
       "2018-01-10  1156.5    0.000000     False\n",
       "2018-01-11  1157.5    0.000865     False"
      ]
     },
     "execution_count": 29,
     "metadata": {},
     "output_type": "execute_result"
    }
   ],
   "source": [
    "# -2％以上動いたら次の日は反動で戻っている様に見えるので、それで最初のストラテジーを組む\n",
    "df_nissan = df_close[[\"NISSAN\"]]\n",
    "df_nissan[\"day return\"] = df_nissan.pct_change()\n",
    "df_nissan[\"buy flag\"] = df_nissan[\"day return\"] < -0.02\n",
    "df_nissan.head()"
   ]
  },
  {
   "cell_type": "code",
   "execution_count": 32,
   "metadata": {},
   "outputs": [
    {
     "data": {
      "text/html": [
       "<div>\n",
       "<style scoped>\n",
       "    .dataframe tbody tr th:only-of-type {\n",
       "        vertical-align: middle;\n",
       "    }\n",
       "\n",
       "    .dataframe tbody tr th {\n",
       "        vertical-align: top;\n",
       "    }\n",
       "\n",
       "    .dataframe thead th {\n",
       "        text-align: right;\n",
       "    }\n",
       "</style>\n",
       "<table border=\"1\" class=\"dataframe\">\n",
       "  <thead>\n",
       "    <tr style=\"text-align: right;\">\n",
       "      <th>Ticker</th>\n",
       "      <th>NISSAN</th>\n",
       "      <th>day return</th>\n",
       "      <th>buy flag</th>\n",
       "      <th>future return</th>\n",
       "    </tr>\n",
       "    <tr>\n",
       "      <th>Date</th>\n",
       "      <th></th>\n",
       "      <th></th>\n",
       "      <th></th>\n",
       "      <th></th>\n",
       "    </tr>\n",
       "  </thead>\n",
       "  <tbody>\n",
       "    <tr>\n",
       "      <th>2018-01-04</th>\n",
       "      <td>1134.0</td>\n",
       "      <td>NaN</td>\n",
       "      <td>False</td>\n",
       "      <td>0.013228</td>\n",
       "    </tr>\n",
       "    <tr>\n",
       "      <th>2018-01-05</th>\n",
       "      <td>1149.0</td>\n",
       "      <td>0.013228</td>\n",
       "      <td>False</td>\n",
       "      <td>0.006527</td>\n",
       "    </tr>\n",
       "    <tr>\n",
       "      <th>2018-01-09</th>\n",
       "      <td>1156.5</td>\n",
       "      <td>0.006527</td>\n",
       "      <td>False</td>\n",
       "      <td>0.000000</td>\n",
       "    </tr>\n",
       "    <tr>\n",
       "      <th>2018-01-10</th>\n",
       "      <td>1156.5</td>\n",
       "      <td>0.000000</td>\n",
       "      <td>False</td>\n",
       "      <td>0.000865</td>\n",
       "    </tr>\n",
       "    <tr>\n",
       "      <th>2018-01-11</th>\n",
       "      <td>1157.5</td>\n",
       "      <td>0.000865</td>\n",
       "      <td>False</td>\n",
       "      <td>-0.007775</td>\n",
       "    </tr>\n",
       "  </tbody>\n",
       "</table>\n",
       "</div>"
      ],
      "text/plain": [
       "Ticker      NISSAN  day return  buy flag  future return\n",
       "Date                                                   \n",
       "2018-01-04  1134.0         NaN     False       0.013228\n",
       "2018-01-05  1149.0    0.013228     False       0.006527\n",
       "2018-01-09  1156.5    0.006527     False       0.000000\n",
       "2018-01-10  1156.5    0.000000     False       0.000865\n",
       "2018-01-11  1157.5    0.000865     False      -0.007775"
      ]
     },
     "execution_count": 32,
     "metadata": {},
     "output_type": "execute_result"
    }
   ],
   "source": [
    "df_nissan[\"future return\"] = df_nissan[\"NISSAN\"].shift(-1) / df_nissan[\"NISSAN\"] -1\n",
    "df_nissan.head()\n"
   ]
  },
  {
   "cell_type": "code",
   "execution_count": 35,
   "metadata": {
    "collapsed": true
   },
   "outputs": [],
   "source": [
    "df_nissan[\"strategy result\"] = df_nissan[\"buy flag\"] * df_nissan[\"future return\"]\n",
    "\n"
   ]
  },
  {
   "cell_type": "code",
   "execution_count": 38,
   "metadata": {},
   "outputs": [
    {
     "data": {
      "text/plain": [
       "0.014798772912829827"
      ]
     },
     "execution_count": 38,
     "metadata": {},
     "output_type": "execute_result"
    }
   ],
   "source": [
    "df_nissan[\"strategy result\"].sum()"
   ]
  },
  {
   "cell_type": "code",
   "execution_count": 39,
   "metadata": {},
   "outputs": [
    {
     "data": {
      "text/plain": [
       "<matplotlib.axes._subplots.AxesSubplot at 0x7f558ebaf438>"
      ]
     },
     "execution_count": 39,
     "metadata": {},
     "output_type": "execute_result"
    },
    {
     "data": {
      "image/png": "[encoded data removed]",
      "text/plain": [
       "<Figure size 432x288 with 1 Axes>"
      ]
     },
     "metadata": {
      "needs_background": "light"
     },
     "output_type": "display_data"
    }
   ],
   "source": [
    "df_nissan[\"strategy result\"].cumsum().plot()"
   ]
  },
  {
   "cell_type": "code",
   "execution_count": 12,
   "metadata": {},
   "outputs": [
    {
     "data": {
      "text/plain": [
       "Rolling [window=5,center=False,axis=0]"
      ]
     },
     "execution_count": 12,
     "metadata": {},
     "output_type": "execute_result"
    }
   ],
   "source": [
    "## 移動平均\n",
    "## 当日から過去N日間の平均を毎日取得する。N日間を window と呼ぶ\n",
    "\n",
    "# pandas.DataFrame.rolling　を使う\n",
    "# https://pandas.pydata.org/pandas-docs/stable/generated/pandas.DataFrame.rolling.html\n",
    "\n",
    "# window=5 を渡して５日毎の束を持つインスタンスを作る\n",
    "df_close.rolling(window=5)"
   ]
  },
  {
   "cell_type": "code",
   "execution_count": 19,
   "metadata": {
    "scrolled": true
   },
   "outputs": [
    {
     "data": {
      "text/html": [
       "<div>\n",
       "<table border=\"1\" class=\"dataframe\">\n",
       "  <thead>\n",
       "    <tr style=\"text-align: right;\">\n",
       "      <th>Ticker</th>\n",
       "      <th>MUFG</th>\n",
       "      <th>NISSAN</th>\n",
       "      <th>SONY</th>\n",
       "      <th>SUMCO</th>\n",
       "    </tr>\n",
       "    <tr>\n",
       "      <th>Date</th>\n",
       "      <th></th>\n",
       "      <th></th>\n",
       "      <th></th>\n",
       "      <th></th>\n",
       "    </tr>\n",
       "  </thead>\n",
       "  <tbody>\n",
       "    <tr>\n",
       "      <th>2018-01-04</th>\n",
       "      <td>NaN</td>\n",
       "      <td>NaN</td>\n",
       "      <td>NaN</td>\n",
       "      <td>NaN</td>\n",
       "    </tr>\n",
       "    <tr>\n",
       "      <th>2018-01-05</th>\n",
       "      <td>NaN</td>\n",
       "      <td>NaN</td>\n",
       "      <td>NaN</td>\n",
       "      <td>NaN</td>\n",
       "    </tr>\n",
       "    <tr>\n",
       "      <th>2018-01-09</th>\n",
       "      <td>NaN</td>\n",
       "      <td>NaN</td>\n",
       "      <td>NaN</td>\n",
       "      <td>NaN</td>\n",
       "    </tr>\n",
       "    <tr>\n",
       "      <th>2018-01-10</th>\n",
       "      <td>NaN</td>\n",
       "      <td>NaN</td>\n",
       "      <td>NaN</td>\n",
       "      <td>NaN</td>\n",
       "    </tr>\n",
       "    <tr>\n",
       "      <th>2018-01-11</th>\n",
       "      <td>867.20</td>\n",
       "      <td>1150.7</td>\n",
       "      <td>5506.0</td>\n",
       "      <td>3024.4</td>\n",
       "    </tr>\n",
       "    <tr>\n",
       "      <th>2018-01-12</th>\n",
       "      <td>872.40</td>\n",
       "      <td>1153.6</td>\n",
       "      <td>5555.2</td>\n",
       "      <td>3015.4</td>\n",
       "    </tr>\n",
       "    <tr>\n",
       "      <th>2018-01-15</th>\n",
       "      <td>876.80</td>\n",
       "      <td>1153.8</td>\n",
       "      <td>5555.0</td>\n",
       "      <td>3007.2</td>\n",
       "    </tr>\n",
       "    <tr>\n",
       "      <th>2018-01-16</th>\n",
       "      <td>881.98</td>\n",
       "      <td>1153.4</td>\n",
       "      <td>5527.4</td>\n",
       "      <td>2995.2</td>\n",
       "    </tr>\n",
       "    <tr>\n",
       "      <th>2018-01-17</th>\n",
       "      <td>882.80</td>\n",
       "      <td>1152.0</td>\n",
       "      <td>5501.0</td>\n",
       "      <td>3002.2</td>\n",
       "    </tr>\n",
       "    <tr>\n",
       "      <th>2018-01-18</th>\n",
       "      <td>881.08</td>\n",
       "      <td>1149.6</td>\n",
       "      <td>5474.0</td>\n",
       "      <td>3046.8</td>\n",
       "    </tr>\n",
       "  </tbody>\n",
       "</table>\n",
       "</div>"
      ],
      "text/plain": [
       "Ticker        MUFG  NISSAN    SONY   SUMCO\n",
       "Date                                      \n",
       "2018-01-04     NaN     NaN     NaN     NaN\n",
       "2018-01-05     NaN     NaN     NaN     NaN\n",
       "2018-01-09     NaN     NaN     NaN     NaN\n",
       "2018-01-10     NaN     NaN     NaN     NaN\n",
       "2018-01-11  867.20  1150.7  5506.0  3024.4\n",
       "2018-01-12  872.40  1153.6  5555.2  3015.4\n",
       "2018-01-15  876.80  1153.8  5555.0  3007.2\n",
       "2018-01-16  881.98  1153.4  5527.4  2995.2\n",
       "2018-01-17  882.80  1152.0  5501.0  3002.2\n",
       "2018-01-18  881.08  1149.6  5474.0  3046.8"
      ]
     },
     "execution_count": 19,
     "metadata": {},
     "output_type": "execute_result"
    }
   ],
   "source": [
    "## 各Windowで平均を出す\n",
    "df_close.rolling(window=5).mean().head(10)"
   ]
  },
  {
   "cell_type": "code",
   "execution_count": 82,
   "metadata": {},
   "outputs": [
    {
     "data": {
      "text/plain": [
       "<matplotlib.axes._subplots.AxesSubplot at 0x7f558e061978>"
      ]
     },
     "execution_count": 82,
     "metadata": {},
     "output_type": "execute_result"
    },
    {
     "data": {
      "image/png": "[encoded data removed]",
      "text/plain": [
       "<Figure size 432x288 with 1 Axes>"
      ]
     },
     "metadata": {
      "needs_background": "light"
     },
     "output_type": "display_data"
    }
   ],
   "source": [
    "## 移動平均と終値をプロットして観察\n",
    "df_close[\"SUMCO\"].rolling(window=5).mean().plot()\n",
    "df_close[\"SUMCO\"].plot(grid=True)\n"
   ]
  },
  {
   "cell_type": "code",
   "execution_count": 42,
   "metadata": {
    "collapsed": true
   },
   "outputs": [],
   "source": [
    "## 移動平均は過去ｎ日間の平均をつかった指標。\n",
    "## 例えば\n",
    "## 1.過去n日と比べて今日の終値が大きく外れていれば、「平均の方にもどるんじゃない？」と予想して逆張りしたり、\n",
    "## 2.終値が移動平均より上にある間は買い持ちして下にある間は売り持ちする\n",
    "## といったことに使ったりしているようです\n",
    "\n",
    "## 1 をシュミレーションしてみましょう。\n",
    "## 過去n日と比べて今日の終値が大きく外れている、とは、\n",
    "## 何％はずれているかを決めなくては行けません。\n",
    "\n",
    "## たとえば５日移動平均だを見ると、NISSANは±0.01以上差ができた場合は戻るのではないか？\n",
    "## と疑いを持つとします。\n",
    "## プロットしてみましょう"
   ]
  },
  {
   "cell_type": "code",
   "execution_count": 91,
   "metadata": {},
   "outputs": [
    {
     "data": {
      "text/plain": [
       "<matplotlib.axes._subplots.AxesSubplot at 0x7f5587d99588>"
      ]
     },
     "execution_count": 91,
     "metadata": {},
     "output_type": "execute_result"
    },
    {
     "data": {
      "image/png": "[encoded data removed]",
      "text/plain": [
       "<Figure size 1440x720 with 2 Axes>"
      ]
     },
     "metadata": {
      "needs_background": "light"
     },
     "output_type": "display_data"
    }
   ],
   "source": [
    "df = df_close[[\"NISSAN\"]]\n",
    "df[\"MA5\"] =  df[\"NISSAN\"].rolling(window=5).mean()\n",
    "df[\"buy flag\"] = ((df[\"NISSAN\"] / df[\"MA5\"] - 1) < -0.01) * 1\n",
    "#df[\"sell flag\"] = ((df[\"NISSAN\"] / df[\"MA5\"] - 1) > 0.01) * 1\n",
    "df.plot(secondary_y=[\"buy flag\",\"sell flag\"], figsize=(20,10))\n"
   ]
  },
  {
   "cell_type": "code",
   "execution_count": 95,
   "metadata": {
    "collapsed": true
   },
   "outputs": [],
   "source": [
    "## では、0.01以上になったら売り持ちし、−0.01以下になったら買い持ち、\n",
    "## それぞれ10日持ったらポジションをクローズするシュミレーションをしてみましょう\n",
    "\n",
    "def simulation1(df_close, symbol_name=\"NISSAN\", window=5, thred=0.01, hold=10):\n",
    "    \"\"\"\n",
    "    df_close: 終値のDataFrame\n",
    "    symbol_name: 銘柄名\n",
    "    window: 移動平均を計算する期間\n",
    "    thred: 乖離の距離\n",
    "    hold: 銘柄保有期間\n",
    "    \"\"\"\n",
    "    \n",
    "    df_ma = df_close.rolling(window=window).mean()\n",
    "    df_diff = df_close / df_ma - 1\n",
    "\n",
    "    df = pd.DataFrame({\n",
    "        \"CLOSE\":df_close[symbol_name], \n",
    "         \"MA\":df_ma[symbol_name],\n",
    "         \"DIFF\":df_diff[symbol_name]})\n",
    "\n",
    "    df[\"long flag\"] = df[\"DIFF\"] < thred * -1\n",
    "    df[\"short flag\"] = df[\"DIFF\"] > thred\n",
    "\n",
    "    ## 注意：ここは同じ row に未来のReturnが入っている状態\n",
    "    df[\"future_return\"] = df[\"CLOSE\"].shift(-1) / df[\"CLOSE\"]   - 1\n",
    "    \n",
    "    longs = df[df[\"long flag\"]].index\n",
    "    shorts = df[df[\"short flag\"]].index\n",
    "    \n",
    "    for date in longs:\n",
    "        df.loc[date:].head(hold)[\"long flag\"]=True\n",
    "    for date in shorts:\n",
    "        df.loc[date:].head(hold)[\"short flag\"]=True\n",
    "        \n",
    "    simulation = df[\"future_return\"] * df[\"long flag\"] + df[\"future_return\"] * df[\"short flag\"]*-1 \n",
    "    return simulation \n"
   ]
  },
  {
   "cell_type": "code",
   "execution_count": 98,
   "metadata": {},
   "outputs": [
    {
     "data": {
      "text/plain": [
       "Date\n",
       "2018-01-04    0.000000\n",
       "2018-01-05    0.000000\n",
       "2018-01-09    0.000000\n",
       "2018-01-10    0.000000\n",
       "2018-01-11    0.000000\n",
       "2018-01-12    0.000000\n",
       "2018-01-15    0.000000\n",
       "2018-01-16    0.000000\n",
       "2018-01-17    0.000000\n",
       "2018-01-18    0.000000\n",
       "2018-01-19    0.000000\n",
       "2018-01-22    0.000000\n",
       "2018-01-23    0.002976\n",
       "2018-01-24    0.002985\n",
       "2018-01-25   -0.011121\n",
       "2018-01-26   -0.009729\n",
       "2018-01-29    0.014663\n",
       "2018-01-30    0.010629\n",
       "2018-01-31    0.000000\n",
       "2018-02-01    0.000000\n",
       "dtype: float64"
      ]
     },
     "execution_count": 98,
     "metadata": {},
     "output_type": "execute_result"
    }
   ],
   "source": [
    "result = simulation1(df_close, )\n",
    "result.head(20)"
   ]
  },
  {
   "cell_type": "code",
   "execution_count": 100,
   "metadata": {},
   "outputs": [
    {
     "data": {
      "text/plain": [
       "Date\n",
       "2018-01-04    0.000000\n",
       "2018-01-05    0.000000\n",
       "2018-01-09    0.000000\n",
       "2018-01-10    0.000000\n",
       "2018-01-11    0.000000\n",
       "2018-01-12    0.000000\n",
       "2018-01-15    0.000000\n",
       "2018-01-16    0.000000\n",
       "2018-01-17    0.000000\n",
       "2018-01-18    0.000000\n",
       "2018-01-19    0.000000\n",
       "2018-01-22    0.000000\n",
       "2018-01-23    0.002976\n",
       "2018-01-24    0.005961\n",
       "2018-01-25   -0.005159\n",
       "2018-01-26   -0.014889\n",
       "2018-01-29   -0.000226\n",
       "2018-01-30    0.010403\n",
       "2018-01-31    0.010403\n",
       "2018-02-01    0.010403\n",
       "dtype: float64"
      ]
     },
     "execution_count": 100,
     "metadata": {},
     "output_type": "execute_result"
    }
   ],
   "source": [
    "result.cumsum().head(20)\n",
    "# 悪くはない感じ。"
   ]
  },
  {
   "cell_type": "code",
   "execution_count": 101,
   "metadata": {},
   "outputs": [
    {
     "data": {
      "text/plain": [
       "<matplotlib.axes._subplots.AxesSubplot at 0x7f5587b21c50>"
      ]
     },
     "execution_count": 101,
     "metadata": {},
     "output_type": "execute_result"
    },
    {
     "data": {
      "image/png": "[encoded data removed]",
      "text/plain": [
       "<Figure size 432x288 with 1 Axes>"
      ]
     },
     "metadata": {
      "needs_background": "light"
     },
     "output_type": "display_data"
    }
   ],
   "source": [
    "# 悪くないかも\n",
    "result.cumsum().plot(grid=True)"
   ]
  },
  {
   "cell_type": "code",
   "execution_count": 72,
   "metadata": {},
   "outputs": [
    {
     "data": {
      "text/plain": [
       "<matplotlib.axes._subplots.AxesSubplot at 0x7f558e505f60>"
      ]
     },
     "execution_count": 72,
     "metadata": {},
     "output_type": "execute_result"
    },
    {
     "data": {
      "image/png": "[encoded data removed]",
      "text/plain": [
       "<Figure size 432x288 with 1 Axes>"
      ]
     },
     "metadata": {
      "needs_background": "light"
     },
     "output_type": "display_data"
    }
   ],
   "source": [
    "fig = plt.figure(figsize=(20,10))\n",
    "ax1 = fig.add_subplot(111)\n",
    "result = simulation2(df_close,window=20)\n",
    "ax1.plot(result.cumsum())\n",
    "\n",
    "ax2 = ax1.twinx()\n",
    "ax2.plot(df_close[\"NISSAN\"], c='g')\n",
    "ax2.plot(df_close[\"NISSAN\"].rolling(window=20).mean(), c='r')# SONYなら\n",
    "simulation1(df_close, symbol_name=\"SONY\").plot(grid=True)"
   ]
  },
  {
   "cell_type": "code",
   "execution_count": 67,
   "metadata": {
    "collapsed": true
   },
   "outputs": [],
   "source": [
    "## 条件を変えて色々試してみましょう.新しい銘柄をダウンロードしてもいいし、他の年でも試したりしてもいいですね。\n",
    "\n",
    "## 2.終値が移動平均より上にある間は買い持ちして下にある間は売り持ちする\n",
    "## プロットして確認してみる"
   ]
  },
  {
   "cell_type": "code",
   "execution_count": 92,
   "metadata": {},
   "outputs": [
    {
     "data": {
      "text/plain": [
       "<matplotlib.axes._subplots.AxesSubplot at 0x7f5587cda630>"
      ]
     },
     "execution_count": 92,
     "metadata": {},
     "output_type": "execute_result"
    },
    {
     "data": {
      "image/png": "[encoded data removed]",
      "text/plain": [
       "<Figure size 432x288 with 1 Axes>"
      ]
     },
     "metadata": {
      "needs_background": "light"
     },
     "output_type": "display_data"
    }
   ],
   "source": [
    "df_close.rolling(window=5).mean()[\"NISSAN\"].plot()\n",
    "df_close[\"NISSAN\"].plot(grid=True)"
   ]
  },
  {
   "cell_type": "code",
   "execution_count": 102,
   "metadata": {},
   "outputs": [
    {
     "data": {
      "text/plain": [
       "<matplotlib.axes._subplots.AxesSubplot at 0x7f5587aa2320>"
      ]
     },
     "execution_count": 102,
     "metadata": {},
     "output_type": "execute_result"
    },
    {
     "data": {
      "image/png": "[encoded data removed]",
      "text/plain": [
       "<Figure size 432x288 with 1 Axes>"
      ]
     },
     "metadata": {
      "needs_background": "light"
     },
     "output_type": "display_data"
    }
   ],
   "source": [
    "def simulation2(df_close, symbol_name=\"NISSAN\", window=5):\n",
    "    \"\"\"\n",
    "    df_close: 終値\n",
    "    symbol_name: 銘柄名\n",
    "    window: 保有期間\n",
    "    \"\"\"\n",
    "    s_ma = df_close[symbol_name].rolling(window=window).mean()\n",
    "    s_long = df_close[symbol_name] > s_ma \n",
    "    s_short = df_close[symbol_name] < s_ma\n",
    "    \n",
    "    s_future_return = df_close[symbol_name].shift(-1) / df_close[symbol_name] - 1 \n",
    "    s_simulation = s_future_return * s_long + s_future_return * s_short * -1 \n",
    "    \n",
    "    return s_simulation\n",
    "\n",
    "simulation2(df_close).cumsum().plot(grid=True)\n",
    "    "
   ]
  },
  {
   "cell_type": "code",
   "execution_count": 103,
   "metadata": {},
   "outputs": [
    {
     "data": {
      "text/plain": [
       "<matplotlib.axes._subplots.AxesSubplot at 0x7f5587a02d30>"
      ]
     },
     "execution_count": 103,
     "metadata": {},
     "output_type": "execute_result"
    },
    {
     "data": {
      "image/png": "[encoded data removed]",
      "text/plain": [
       "<Figure size 432x288 with 1 Axes>"
      ]
     },
     "metadata": {
      "needs_background": "light"
     },
     "output_type": "display_data"
    }
   ],
   "source": [
    "simulation2(df_close,window=20).cumsum().plot(grid=True)"
   ]
  },
  {
   "cell_type": "code",
   "execution_count": 110,
   "metadata": {},
   "outputs": [
    {
     "data": {
      "text/plain": [
       "[<matplotlib.lines.Line2D at 0x7f558765ecf8>]"
      ]
     },
     "execution_count": 110,
     "metadata": {},
     "output_type": "execute_result"
    },
    {
     "data": {
      "image/png": "[encoded data removed]",
      "text/plain": [
       "<Figure size 1440x720 with 2 Axes>"
      ]
     },
     "metadata": {
      "needs_background": "light"
     },
     "output_type": "display_data"
    }
   ],
   "source": [
    "# どういう時に負けているか、確認\n",
    "fig = plt.figure(figsize=(20,10))\n",
    "ax1 = fig.add_subplot(111)\n",
    "result = simulation2(df_close,window=20)\n",
    "ax1.plot(result.cumsum())\n",
    "\n",
    "ax2 = ax1.twinx()\n",
    "ax2.plot(df_close[\"NISSAN\"], c='g')\n",
    "ax2.plot(df_close[\"NISSAN\"].rolling(window=20).mean(), c='r')"
   ]
  },
  {
   "cell_type": "code",
   "execution_count": 125,
   "metadata": {},
   "outputs": [
    {
     "data": {
      "text/plain": [
       "<matplotlib.axes._subplots.AxesSubplot at 0x7f558731a5f8>"
      ]
     },
     "execution_count": 125,
     "metadata": {},
     "output_type": "execute_result"
    },
    {
     "data": {
      "image/png": "[encoded data removed]",
      "text/plain": [
       "<Figure size 432x288 with 1 Axes>"
      ]
     },
     "metadata": {
      "needs_background": "light"
     },
     "output_type": "display_data"
    }
   ],
   "source": [
    "## 終値と移動平均が”十分”に離れている時は儲かっていてそうではない時に損してそう。\n",
    "## simulation2 を改造してみましょう\n",
    "\n",
    "\n",
    "## HL バンド\n",
    "\n",
    "def get_adj_prices(all_data, symbol_name):\n",
    "    df_adj_close = all_data[\"終値調整値\"].reset_index().pivot('Date', 'Ticker', '終値調整値')\n",
    "    df_open = all_data[\"始値\"].reset_index().pivot('Date', 'Ticker', '始値')\n",
    "    df_high = all_data[\"高値\"].reset_index().pivot('Date', 'Ticker', '高値')\n",
    "    df_low = all_data[\"安値\"].reset_index().pivot('Date', 'Ticker', '安値')\n",
    "    df_close = all_data[\"終値\"].reset_index().pivot('Date', 'Ticker', '終値')\n",
    "    \n",
    "    df_adj = df_adj_close / df_close\n",
    "    df_adj_open = df_open * df_adj\n",
    "    df_adj_high = df_high * df_adj\n",
    "    df_adj_low = df_low * df_adj\n",
    "    df = pd.concat([df_adj_open[symbol_name], df_adj_high[symbol_name], df_adj_low[symbol_name], df_adj_close[symbol_name]], axis=1)\n",
    "    df.columns=['open', 'high', 'low', 'close']\n",
    "    return df\n",
    "\n",
    "get_adj_prices(all_data, \"NISSAN\").head()\n",
    "\n",
    "## では、20日間のHLバンドで、\n",
    "## それぞれ10日持ったらポジションをクローズするシュミレーションをしてみましょう\n",
    "\n",
    "def simulation_HL(all_data, symbol_name=\"NISSAN\", window=20,hold=10):  \n",
    "    df = get_adj_prices(all_data, symbol_name)\n",
    "    df['high_band'] = df['high'].rolling(window=window).max()\n",
    "    df['low_band'] = df['low'].rolling(window=window).min()\n",
    "    df[\"long_flag\"] = df['close'] > df['high_band'].shift(1)\n",
    "    df[\"short_flag\"] = df['close'] < df['low_band'].shift(1)\n",
    "    \n",
    "    ## 注意：ここは同じ row に未来のReturnが入っている状態\n",
    "    df[\"future_return\"] = df[\"close\"].shift(-1) / df[\"close\"]   - 1\n",
    "    #\n",
    "    longs = df[df[\"long_flag\"]].index\n",
    "    shorts = df[df[\"short_flag\"]].index\n",
    "    \n",
    "    for date in longs:\n",
    "        df.loc[date:].head(hold)[\"long_flag\"]=True\n",
    "    for date in shorts:\n",
    "        df.loc[date:].head(hold)[\"short_flag\"]=True\n",
    "    df['conflict'] = df['long_flag']*df['short_flag']\n",
    "    df['long_flag'] = df['long_flag']*(df['conflict'] == False)\n",
    "    df['short_flag'] = df['short_flag']*(df['conflict'] == False)\n",
    "       \n",
    "    return df[\"future_return\"] * df[\"long_flag\"] + df[\"future_return\"] * df[\"short_flag\"]*-1\n",
    "\n",
    "\n",
    "simulation_HL(all_data,).cumsum().plot()\n"
   ]
  },
  {
   "cell_type": "code",
   "execution_count": 122,
   "metadata": {
    "collapsed": true
   },
   "outputs": [],
   "source": [
    "# memo\n",
    "\n",
    "import os\n",
    "import glob\n",
    "\n",
    "def csv_to_pan(directory= '/tmp/stocks/*csv', ):\n",
    "\n",
    "    files = glob.glob(directory)\n",
    "    d = dict()\n",
    "    for f in files:\n",
    "        code = (os.path.split(f)[1].replace(\".csv\",\"\"))\n",
    "        d[code] = pd.read_csv(f, index_col=\"日付\", parse_dates=True)\n",
    "\n",
    "    pan = pd.Panel(d)\n",
    "    return pan \n",
    "\n",
    "pan = csv_to_pan()\n"
   ]
  },
  {
   "cell_type": "code",
   "execution_count": 123,
   "metadata": {},
   "outputs": [
    {
     "data": {
      "text/plain": [
       "<class 'pandas.core.panel.Panel'>\n",
       "Dimensions: 0 (items) x 0 (major_axis) x 0 (minor_axis)\n",
       "Items axis: None\n",
       "Major_axis axis: None\n",
       "Minor_axis axis: None"
      ]
     },
     "execution_count": 123,
     "metadata": {},
     "output_type": "execute_result"
    }
   ],
   "source": []
  }
 ],
 "metadata": {
  "kernelspec": {
   "display_name": "Python 3",
   "language": "python",
   "name": "python3"
  },
  "language_info": {
   "codemirror_mode": {
    "name": "ipython",
    "version": 3
   },
   "file_extension": ".py",
   "mimetype": "text/x-python",
   "name": "python",
   "nbconvert_exporter": "python",
   "pygments_lexer": "ipython3",
   "version": "3.6.3"
  }
 },
 "nbformat": 4,
 "nbformat_minor": 2
}
