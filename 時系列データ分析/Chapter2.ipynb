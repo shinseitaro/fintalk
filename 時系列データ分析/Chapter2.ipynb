{
 "cells": [
  {
   "cell_type": "markdown",
   "metadata": {},
   "source": [
    "# 株式データを観察する。\n",
    "\n",
    "この章では `時系列データ` である株式データについて考えて行きます。\n",
    "\n",
    "### 事前準備\n",
    "\n",
    "[個別株価データ、株価推移・過去データ・無料CSVダウンロード | 株式投資メモ・株価データベース](https://kabuoji3.com/stock/)からお好きな銘柄を4つダウンロード\n",
    "\n",
    "\n"
   ]
  },
  {
   "cell_type": "code",
   "execution_count": 12,
   "metadata": {},
   "outputs": [],
   "source": [
    "import pandas as pd \n",
    "\n",
    "stock0 = \"/tmp/7201_2018.csv\"\n",
    "stock1 = \"/tmp/6758_2018.csv\"\n",
    "stock2 = \"/tmp/3436_2018.csv\"\n",
    "stock3 = \"/tmp/8306_2018.csv\"\n",
    "\n",
    "df_stock0 = pd.read_csv(stock0, skiprows=[0], encoding='shift-jis', index_col=\"日付\", parse_dates=True)\n",
    "df_stock1 = pd.read_csv(stock1, skiprows=[0], encoding='shift-jis', index_col=\"日付\", parse_dates=True)\n",
    "df_stock2 = pd.read_csv(stock2, skiprows=[0], encoding='shift-jis', index_col=\"日付\", parse_dates=True)\n",
    "df_stock3 = pd.read_csv(stock3, skiprows=[0], encoding='shift-jis', index_col=\"日付\", parse_dates=True)\n"
   ]
  },
  {
   "cell_type": "code",
   "execution_count": 14,
   "metadata": {},
   "outputs": [
    {
     "data": {
      "text/html": [
       "<div>\n",
       "<style scoped>\n",
       "    .dataframe tbody tr th:only-of-type {\n",
       "        vertical-align: middle;\n",
       "    }\n",
       "\n",
       "    .dataframe tbody tr th {\n",
       "        vertical-align: top;\n",
       "    }\n",
       "\n",
       "    .dataframe thead th {\n",
       "        text-align: right;\n",
       "    }\n",
       "</style>\n",
       "<table border=\"1\" class=\"dataframe\">\n",
       "  <thead>\n",
       "    <tr style=\"text-align: right;\">\n",
       "      <th></th>\n",
       "      <th>始値</th>\n",
       "      <th>高値</th>\n",
       "      <th>安値</th>\n",
       "      <th>終値</th>\n",
       "      <th>出来高</th>\n",
       "      <th>終値調整値</th>\n",
       "    </tr>\n",
       "    <tr>\n",
       "      <th>日付</th>\n",
       "      <th></th>\n",
       "      <th></th>\n",
       "      <th></th>\n",
       "      <th></th>\n",
       "      <th></th>\n",
       "      <th></th>\n",
       "    </tr>\n",
       "  </thead>\n",
       "  <tbody>\n",
       "    <tr>\n",
       "      <th>2018-11-07</th>\n",
       "      <td>6075</td>\n",
       "      <td>6177</td>\n",
       "      <td>6034</td>\n",
       "      <td>6105</td>\n",
       "      <td>7497700</td>\n",
       "      <td>6105</td>\n",
       "    </tr>\n",
       "    <tr>\n",
       "      <th>2018-11-08</th>\n",
       "      <td>6280</td>\n",
       "      <td>6298</td>\n",
       "      <td>6207</td>\n",
       "      <td>6259</td>\n",
       "      <td>5730800</td>\n",
       "      <td>6259</td>\n",
       "    </tr>\n",
       "    <tr>\n",
       "      <th>2018-11-09</th>\n",
       "      <td>6249</td>\n",
       "      <td>6282</td>\n",
       "      <td>6215</td>\n",
       "      <td>6248</td>\n",
       "      <td>5600100</td>\n",
       "      <td>6248</td>\n",
       "    </tr>\n",
       "    <tr>\n",
       "      <th>2018-11-12</th>\n",
       "      <td>6165</td>\n",
       "      <td>6171</td>\n",
       "      <td>6054</td>\n",
       "      <td>6056</td>\n",
       "      <td>5940600</td>\n",
       "      <td>6056</td>\n",
       "    </tr>\n",
       "    <tr>\n",
       "      <th>2018-11-13</th>\n",
       "      <td>5754</td>\n",
       "      <td>5928</td>\n",
       "      <td>5735</td>\n",
       "      <td>5893</td>\n",
       "      <td>10609500</td>\n",
       "      <td>5893</td>\n",
       "    </tr>\n",
       "  </tbody>\n",
       "</table>\n",
       "</div>"
      ],
      "text/plain": [
       "              始値    高値    安値    終値       出来高  終値調整値\n",
       "日付                                                 \n",
       "2018-11-07  6075  6177  6034  6105   7497700   6105\n",
       "2018-11-08  6280  6298  6207  6259   5730800   6259\n",
       "2018-11-09  6249  6282  6215  6248   5600100   6248\n",
       "2018-11-12  6165  6171  6054  6056   5940600   6056\n",
       "2018-11-13  5754  5928  5735  5893  10609500   5893"
      ]
     },
     "execution_count": 14,
     "metadata": {},
     "output_type": "execute_result"
    }
   ],
   "source": [
    "df_stock1.tail()"
   ]
  }
 ],
 "metadata": {
  "kernelspec": {
   "display_name": "Python 3",
   "language": "python",
   "name": "python3"
  },
  "language_info": {
   "codemirror_mode": {
    "name": "ipython",
    "version": 3
   },
   "file_extension": ".py",
   "mimetype": "text/x-python",
   "name": "python",
   "nbconvert_exporter": "python",
   "pygments_lexer": "ipython3",
   "version": "3.6.6"
  }
 },
 "nbformat": 4,
 "nbformat_minor": 2
}
