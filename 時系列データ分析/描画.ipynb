{
 "cells": [
  {
   "cell_type": "markdown",
   "metadata": {},
   "source": [
    "## いろんな描画\n",
    "\n",
    "描画の方法を忘れがちなので、描画まとめノートブックを作ります。"
   ]
  },
  {
   "cell_type": "code",
   "execution_count": 22,
   "metadata": {},
   "outputs": [
    {
     "data": {
      "text/html": [
       "<div>\n",
       "<style scoped>\n",
       "    .dataframe tbody tr th:only-of-type {\n",
       "        vertical-align: middle;\n",
       "    }\n",
       "\n",
       "    .dataframe tbody tr th {\n",
       "        vertical-align: top;\n",
       "    }\n",
       "\n",
       "    .dataframe thead th {\n",
       "        text-align: right;\n",
       "    }\n",
       "</style>\n",
       "<table border=\"1\" class=\"dataframe\">\n",
       "  <thead>\n",
       "    <tr style=\"text-align: right;\">\n",
       "      <th></th>\n",
       "      <th>close</th>\n",
       "      <th>open</th>\n",
       "      <th>high</th>\n",
       "      <th>low</th>\n",
       "    </tr>\n",
       "    <tr>\n",
       "      <th>データ日付</th>\n",
       "      <th></th>\n",
       "      <th></th>\n",
       "      <th></th>\n",
       "      <th></th>\n",
       "    </tr>\n",
       "  </thead>\n",
       "  <tbody>\n",
       "    <tr>\n",
       "      <th>2018-12-14</th>\n",
       "      <td>21374.83</td>\n",
       "      <td>21638.96</td>\n",
       "      <td>21751.31</td>\n",
       "      <td>21353.94</td>\n",
       "    </tr>\n",
       "    <tr>\n",
       "      <th>2018-12-17</th>\n",
       "      <td>21506.88</td>\n",
       "      <td>21391.73</td>\n",
       "      <td>21563.27</td>\n",
       "      <td>21363.67</td>\n",
       "    </tr>\n",
       "    <tr>\n",
       "      <th>2018-12-18</th>\n",
       "      <td>21115.45</td>\n",
       "      <td>21275.51</td>\n",
       "      <td>21330.36</td>\n",
       "      <td>21101.44</td>\n",
       "    </tr>\n",
       "    <tr>\n",
       "      <th>2018-12-19</th>\n",
       "      <td>20987.92</td>\n",
       "      <td>21107.17</td>\n",
       "      <td>21168.62</td>\n",
       "      <td>20880.73</td>\n",
       "    </tr>\n",
       "    <tr>\n",
       "      <th>2018-12-20</th>\n",
       "      <td>20392.58</td>\n",
       "      <td>20779.93</td>\n",
       "      <td>20841.34</td>\n",
       "      <td>20282.93</td>\n",
       "    </tr>\n",
       "  </tbody>\n",
       "</table>\n",
       "</div>"
      ],
      "text/plain": [
       "               close      open      high       low\n",
       "データ日付                                             \n",
       "2018-12-14  21374.83  21638.96  21751.31  21353.94\n",
       "2018-12-17  21506.88  21391.73  21563.27  21363.67\n",
       "2018-12-18  21115.45  21275.51  21330.36  21101.44\n",
       "2018-12-19  20987.92  21107.17  21168.62  20880.73\n",
       "2018-12-20  20392.58  20779.93  20841.34  20282.93"
      ]
     },
     "execution_count": 22,
     "metadata": {},
     "output_type": "execute_result"
    }
   ],
   "source": [
    "import pandas as pd \n",
    "import numpy as np\n",
    "import matplotlib.pyplot as plt\n",
    "\n",
    "fpath = '/tmp/nikkei_stock_average_daily_jp.csv'\n",
    "\n",
    "df = pd.read_csv(fpath, \n",
    "                 encoding=\"shift-jis\", \n",
    "                 index_col=\"データ日付\",\n",
    "                 )\n",
    "df = df.iloc[:-1] \n",
    "df = df.rename(columns={'終値':'close','始値':'open','高値':'high', '安値':'low'})\n",
    "df.index = pd.to_datetime(df.index)\n",
    "\n",
    "df.tail()"
   ]
  },
  {
   "cell_type": "markdown",
   "metadata": {},
   "source": [
    "## ローソク足\n",
    "\n",
    "次にローソク足をプロットしてみます。\n",
    "\n",
    "ローソク足のプロット関数はいくつかあるみたいですが、ここでは `mpl_finance.candlestick_ochl` を使います。\n",
    "\n",
    "#### mpl_financeのインストール\n",
    "```\n",
    "$ pip install mpl_finance \n",
    "``` \n",
    "\n",
    "#### candlestick_ochl\n",
    "\n",
    "```\n",
    "candlestick_ochl(ax, quotes, width=0.2, colorup='k', colordown='r', alpha=1.0)\n",
    "    ax : ax \n",
    "    quotes : (time, open, close, high, low)で並んだ配列。時間はfloatでなくては行けない。\n",
    "```\n"
   ]
  },
  {
   "cell_type": "code",
   "execution_count": 66,
   "metadata": {},
   "outputs": [
    {
     "data": {
      "image/png": "[encoded data removed]",
      "text/plain": [
       "<Figure size 1440x720 with 1 Axes>"
      ]
     },
     "metadata": {},
     "output_type": "display_data"
    }
   ],
   "source": [
    "## ローソク足\n",
    "from matplotlib.dates import date2num\n",
    "from mpl_finance import candlestick_ochl\n",
    "\n",
    "fig, ax = plt.subplots(1,1, figsize=(20,10))\n",
    "\n",
    "#表示が見やすいように最後の40日だけ取得\n",
    "df_1 = df.iloc[-40:].copy()\n",
    "df_1['date'] = date2num(df_1.index )\n",
    "\n",
    "#OCHL でデータを並ばせる. \n",
    "df_1 = df_1[['date', 'open', 'close',  'high', 'low']]\n",
    "\n",
    "ochl = df_1.values\n",
    "candlestick_ochl(ax, ochl, width=0.7, colorup='g', colordown='r')\n",
    "ax.set_xlim(df_1.index[0].date(), df_1.index[-1].date())  # x軸の範囲\n",
    "ax.grid()  # グリッド表示\n",
    "fig.autofmt_xdate() "
   ]
  },
  {
   "cell_type": "code",
   "execution_count": null,
   "metadata": {},
   "outputs": [],
   "source": []
  }
 ],
 "metadata": {
  "kernelspec": {
   "display_name": "Python 3",
   "language": "python",
   "name": "python3"
  },
  "language_info": {
   "codemirror_mode": {
    "name": "ipython",
    "version": 3
   },
   "file_extension": ".py",
   "mimetype": "text/x-python",
   "name": "python",
   "nbconvert_exporter": "python",
   "pygments_lexer": "ipython3",
   "version": "3.6.5"
  }
 },
 "nbformat": 4,
 "nbformat_minor": 2
}
